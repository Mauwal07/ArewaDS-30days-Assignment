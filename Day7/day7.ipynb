{
 "cells": [
  {
   "cell_type": "markdown",
   "metadata": {},
   "source": [
    "# Exercises: Day 7"
   ]
  },
  {
   "cell_type": "code",
   "execution_count": 1,
   "metadata": {},
   "outputs": [],
   "source": [
    "# sets\n",
    "it_companies = {'Facebook', 'Google', 'Microsoft', 'Apple', 'IBM', 'Oracle', 'Amazon'}\n",
    "A = {19, 22, 24, 20, 25, 26}\n",
    "B = {19, 22, 20, 25, 26, 24, 28, 27}\n",
    "age = [22, 19, 24, 25, 26, 24, 25, 24]"
   ]
  },
  {
   "cell_type": "markdown",
   "metadata": {},
   "source": [
    "### Exercises: Level 1"
   ]
  },
  {
   "cell_type": "code",
   "execution_count": 2,
   "metadata": {},
   "outputs": [
    {
     "name": "stdout",
     "output_type": "stream",
     "text": [
      "7\n"
     ]
    }
   ],
   "source": [
    "# 1. Find the length of the set it_companies\n",
    "\n",
    "print(len(it_companies))"
   ]
  },
  {
   "cell_type": "code",
   "execution_count": 4,
   "metadata": {},
   "outputs": [
    {
     "name": "stdout",
     "output_type": "stream",
     "text": [
      "{'Oracle', 'Twitter', 'Microsoft', 'Facebook', 'IBM', 'Google', 'Amazon', 'Apple'}\n"
     ]
    }
   ],
   "source": [
    "# 2. Add 'Twitter' to it_companies\n",
    "\n",
    "it_companies.add('Twitter')\n",
    "print(it_companies)"
   ]
  },
  {
   "cell_type": "code",
   "execution_count": 7,
   "metadata": {},
   "outputs": [
    {
     "name": "stdout",
     "output_type": "stream",
     "text": [
      "{'Google', 'Amazon', 'Apple', 'WhatsApp', 'Oracle', 'Twitter', 'Microsoft', 'Facebook', 'IBM', 'Telegram'}\n"
     ]
    }
   ],
   "source": [
    "# 3. Insert multiple IT companies at once to the set it_companies\n",
    "\n",
    "it_companies = {'Oracle', 'Twitter', 'Microsoft', 'Facebook', 'IBM', 'Google', 'Amazon', 'Apple'}\n",
    "it_companies.update(['WhatsApp', 'Telegram'])\n",
    "print(it_companies)"
   ]
  },
  {
   "cell_type": "code",
   "execution_count": 8,
   "metadata": {},
   "outputs": [
    {
     "name": "stdout",
     "output_type": "stream",
     "text": [
      "{'Google', 'Amazon', 'Apple', 'WhatsApp', 'Oracle', 'Twitter', 'Facebook', 'IBM', 'Telegram'}\n"
     ]
    }
   ],
   "source": [
    "# 4. Remove one of the companies from the set it_companies\n",
    "\n",
    "it_companies.remove('Microsoft')\n",
    "print(it_companies)"
   ]
  },
  {
   "cell_type": "code",
   "execution_count": null,
   "metadata": {},
   "outputs": [],
   "source": [
    "# 5. What is the difference between remove and discard\n",
    "\n",
    "# The remove() method raises an error message when the specified item is not in the set. While the discard() method does not."
   ]
  },
  {
   "cell_type": "markdown",
   "metadata": {},
   "source": [
    "### Exercises: Level 2"
   ]
  },
  {
   "cell_type": "code",
   "execution_count": 9,
   "metadata": {},
   "outputs": [],
   "source": [
    "A = {19, 22, 24, 20, 25, 26}\n",
    "B = {19, 22, 20, 25, 26, 24, 28, 27}"
   ]
  },
  {
   "cell_type": "code",
   "execution_count": 10,
   "metadata": {},
   "outputs": [
    {
     "data": {
      "text/plain": [
       "{19, 20, 22, 24, 25, 26, 27, 28}"
      ]
     },
     "execution_count": 10,
     "metadata": {},
     "output_type": "execute_result"
    }
   ],
   "source": [
    "# 1. Join A and B\n",
    "\n",
    "A.union(B)"
   ]
  },
  {
   "cell_type": "code",
   "execution_count": 11,
   "metadata": {},
   "outputs": [
    {
     "data": {
      "text/plain": [
       "{19, 20, 22, 24, 25, 26}"
      ]
     },
     "execution_count": 11,
     "metadata": {},
     "output_type": "execute_result"
    }
   ],
   "source": [
    "# 2. Find A intersection B\n",
    "\n",
    "A.intersection(B)"
   ]
  },
  {
   "cell_type": "code",
   "execution_count": 12,
   "metadata": {},
   "outputs": [
    {
     "data": {
      "text/plain": [
       "True"
      ]
     },
     "execution_count": 12,
     "metadata": {},
     "output_type": "execute_result"
    }
   ],
   "source": [
    "# 3. Is A subset of B\n",
    "\n",
    "A.issubset(B)"
   ]
  },
  {
   "cell_type": "code",
   "execution_count": 13,
   "metadata": {},
   "outputs": [
    {
     "data": {
      "text/plain": [
       "False"
      ]
     },
     "execution_count": 13,
     "metadata": {},
     "output_type": "execute_result"
    }
   ],
   "source": [
    "# 4. Are A and B disjoint sets\n",
    "\n",
    "A.isdisjoint(B)"
   ]
  },
  {
   "cell_type": "code",
   "execution_count": 17,
   "metadata": {},
   "outputs": [
    {
     "name": "stdout",
     "output_type": "stream",
     "text": [
      "A U B :  {19, 20, 22, 24, 25, 26, 27, 28}\n",
      "B U A :  {19, 20, 22, 24, 25, 26, 27, 28}\n"
     ]
    }
   ],
   "source": [
    "# 5. Join A with B and B with A\n",
    "\n",
    "print('A U B : ' , A.union(B))\n",
    "print('B U A : ' , B.union(A))"
   ]
  },
  {
   "cell_type": "code",
   "execution_count": 18,
   "metadata": {},
   "outputs": [
    {
     "data": {
      "text/plain": [
       "{27, 28}"
      ]
     },
     "execution_count": 18,
     "metadata": {},
     "output_type": "execute_result"
    }
   ],
   "source": [
    "# 6. What is the symmetric difference between A and B\n",
    "\n",
    "A.symmetric_difference(B)"
   ]
  },
  {
   "cell_type": "code",
   "execution_count": 19,
   "metadata": {},
   "outputs": [],
   "source": [
    "# 7. Delete the sets completely\n",
    "\n",
    "del A\n",
    "del B"
   ]
  },
  {
   "cell_type": "markdown",
   "metadata": {},
   "source": [
    "### Exercises: Level 3"
   ]
  },
  {
   "cell_type": "code",
   "execution_count": 21,
   "metadata": {},
   "outputs": [],
   "source": [
    "age = [22, 19, 24, 25, 26, 24, 25, 24]"
   ]
  },
  {
   "cell_type": "code",
   "execution_count": 26,
   "metadata": {},
   "outputs": [
    {
     "name": "stdout",
     "output_type": "stream",
     "text": [
      "set_age:  {19, 22, 24, 25, 26}\n",
      "length of list_age:  8\n",
      "length of set_age:  5\n"
     ]
    }
   ],
   "source": [
    "# 1. Convert the ages to a set and compare the length of the list and the set, which one is bigger?\n",
    "\n",
    "set_age = set(age) \n",
    "print('set_age: ' , set_age)\n",
    "print('length of list_age: ' , len(age))\n",
    "print('length of set_age: ' , len(set_age))"
   ]
  },
  {
   "cell_type": "markdown",
   "metadata": {},
   "source": [
    "##### 2. Explain the difference between the following data types: string, list, tuple and set\n",
    "\n",
    "- string: Any data type written as text is a string and the data has to be under single, double or triple quote.\n",
    "\n",
    "- List: is a collection which is ordered and changeable(modifiable). Allows duplicate members.\n",
    "\n",
    "- Tuple: is a collection which is ordered and unchangeable or unmodifiable(immutable). Allows duplicate members.\n",
    "\n",
    "- Set: is a collection which is unordered, un-indexed and unmodifiable, but we can add new items to the set. Duplicate members are not allowed."
   ]
  },
  {
   "cell_type": "code",
   "execution_count": 28,
   "metadata": {},
   "outputs": [
    {
     "name": "stdout",
     "output_type": "stream",
     "text": [
      "The individual words are:  ['I', 'am', 'a', 'teacher', 'and', 'I', 'love', 'to', 'inspire', 'and', 'teach', 'people']\n",
      "The unique words are:  {'people', 'love', 'I', 'teach', 'inspire', 'teacher', 'to', 'a', 'and', 'am'}\n"
     ]
    }
   ],
   "source": [
    "# 3. I am a teacher and I love to inspire and teach people. \n",
    "# How many unique words have been used in the sentence? Use the split methods and set to get the unique words.\n",
    "\n",
    "sentence = 'I am a teacher and I love to inspire and teach people'\n",
    "individual_words = sentence.split()\n",
    "print('The individual words are: ', individual_words)\n",
    "unique_words = set(individual_words)\n",
    "print('The unique words are: ' , unique_words)"
   ]
  }
 ],
 "metadata": {
  "kernelspec": {
   "display_name": ".venv",
   "language": "python",
   "name": "python3"
  },
  "language_info": {
   "codemirror_mode": {
    "name": "ipython",
    "version": 3
   },
   "file_extension": ".py",
   "mimetype": "text/x-python",
   "name": "python",
   "nbconvert_exporter": "python",
   "pygments_lexer": "ipython3",
   "version": "3.9.5"
  }
 },
 "nbformat": 4,
 "nbformat_minor": 2
}
