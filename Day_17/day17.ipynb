{
 "cells": [
  {
   "cell_type": "markdown",
   "metadata": {},
   "source": [
    "# Exercises: Day 17"
   ]
  },
  {
   "cell_type": "code",
   "execution_count": 3,
   "metadata": {},
   "outputs": [
    {
     "name": "stdout",
     "output_type": "stream",
     "text": [
      "nordic countries: ['Finland', 'Sweden', 'Norway', 'Denmark', 'Iceland']\n",
      "es: Estonia\n",
      "ru: Russia\n"
     ]
    }
   ],
   "source": [
    "\n",
    "# 1. names = ['Finland', 'Sweden', 'Norway','Denmark','Iceland', 'Estonia','Russia'].\n",
    "# Unpack the first five countries and store them in a variable nordic_countries,\n",
    "# store Estonia and Russia in es, and ru respectively.\n",
    "\n",
    "names = ['Finland', 'Sweden', 'Norway', 'Denmark', 'Iceland', 'Estonia', 'Russia']\n",
    "\n",
    "*nordic_countries, es, ru = names\n",
    "\n",
    "print(f'nordic countries: {nordic_countries}')\n",
    "print(f'es: {es}')\n",
    "print(f'ru: {ru}')"
   ]
  }
 ],
 "metadata": {
  "kernelspec": {
   "display_name": ".venv",
   "language": "python",
   "name": "python3"
  },
  "language_info": {
   "codemirror_mode": {
    "name": "ipython",
    "version": 3
   },
   "file_extension": ".py",
   "mimetype": "text/x-python",
   "name": "python",
   "nbconvert_exporter": "python",
   "pygments_lexer": "ipython3",
   "version": "3.9.5"
  }
 },
 "nbformat": 4,
 "nbformat_minor": 2
}
