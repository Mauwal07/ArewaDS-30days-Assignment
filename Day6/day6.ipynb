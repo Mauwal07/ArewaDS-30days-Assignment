{
 "cells": [
  {
   "cell_type": "markdown",
   "metadata": {},
   "source": [
    "# Exercises: Day 6"
   ]
  },
  {
   "cell_type": "markdown",
   "metadata": {},
   "source": [
    "### Exercises: Level 1"
   ]
  },
  {
   "cell_type": "code",
   "execution_count": 3,
   "metadata": {},
   "outputs": [
    {
     "name": "stdout",
     "output_type": "stream",
     "text": [
      "()\n"
     ]
    }
   ],
   "source": [
    "# 1. Create an empty tuple\n",
    "\n",
    "#tpl = () # another way\n",
    "tpl = tuple()\n",
    "print(tpl)"
   ]
  },
  {
   "cell_type": "code",
   "execution_count": 4,
   "metadata": {},
   "outputs": [
    {
     "name": "stdout",
     "output_type": "stream",
     "text": [
      "('Musa', 'Isa', 'Fatima', 'Haala', \"Sa'ad\")\n"
     ]
    }
   ],
   "source": [
    "# 2. Create a tuple containing names of your sisters and your brothers (imaginary siblings are fine)\n",
    "\n",
    "tpl = ('Musa', 'Isa', 'Fatima', 'Haala', 'Sa\\'ad')\n",
    "print(tpl)"
   ]
  },
  {
   "cell_type": "code",
   "execution_count": 6,
   "metadata": {},
   "outputs": [
    {
     "name": "stdout",
     "output_type": "stream",
     "text": [
      "('Musa', 'Isa', \"Sa'ad\", 'Fatima', 'Haala')\n"
     ]
    }
   ],
   "source": [
    "# 3. Join brothers and sisters tuples and assign it to siblings\n",
    "\n",
    "brothers = ('Musa', 'Isa', 'Sa\\'ad')\n",
    "sisters = ('Fatima', 'Haala')\n",
    "siblings = brothers + sisters\n",
    "print(siblings)"
   ]
  },
  {
   "cell_type": "code",
   "execution_count": 7,
   "metadata": {},
   "outputs": [
    {
     "name": "stdout",
     "output_type": "stream",
     "text": [
      "5\n"
     ]
    }
   ],
   "source": [
    "# 4. How many siblings do you have?\n",
    "\n",
    "siblings = ('Musa', 'Isa', 'Fatima', 'Haala', 'Sa\\'ad')\n",
    "print(len(siblings)) "
   ]
  },
  {
   "cell_type": "code",
   "execution_count": 18,
   "metadata": {},
   "outputs": [
    {
     "name": "stdout",
     "output_type": "stream",
     "text": [
      "['Musa', 'Isa', 'Fatima', 'Haala', \"Sa'ad\", 'Sani', 'Amina']\n"
     ]
    }
   ],
   "source": [
    "# 5. Modify the siblings tuple and add the name of your father and mother and assign it to family_members\n",
    "\n",
    "siblings = ('Musa', 'Isa', 'Fatima', 'Haala', 'Sa\\'ad')\n",
    "parents = list(siblings)\n",
    "#print(parents)\n",
    "parents.append('Sani')\n",
    "parents.append('Amina')\n",
    "print(parents)\n"
   ]
  },
  {
   "cell_type": "markdown",
   "metadata": {},
   "source": [
    "### Exercises: Level 2"
   ]
  },
  {
   "cell_type": "code",
   "execution_count": 1,
   "metadata": {},
   "outputs": [
    {
     "name": "stdout",
     "output_type": "stream",
     "text": [
      "father:  Sani\n",
      "mother:  Amina\n",
      "siblings:  ['Musa', 'Isa', 'Fatima', 'Haala', \"Sa'ad\"]\n"
     ]
    }
   ],
   "source": [
    "# 1. Unpack siblings and parents from family_members\n",
    "\n",
    "family_members = ('Sani', 'Amina', 'Musa', 'Isa', 'Fatima', 'Haala', \"Sa'ad\")\n",
    "father, mother, *siblings = family_members\n",
    "print('father: ', father)\n",
    "print('mother: ', mother)\n",
    "print('siblings: ', siblings)"
   ]
  },
  {
   "cell_type": "code",
   "execution_count": 2,
   "metadata": {},
   "outputs": [
    {
     "name": "stdout",
     "output_type": "stream",
     "text": [
      "('mango', 'orange', 'lemon', 'spinach', 'okro', 'milk', 'beef')\n"
     ]
    }
   ],
   "source": [
    "# 2. Create fruits, vegetables and animal products tuples.\n",
    "# Join the three tuples and assign it to a variable called food_stuff_tp.\n",
    "\n",
    "fruits = ('mango', 'orange', 'lemon')\n",
    "vegetables = ('spinach', 'okro')\n",
    "animal_products = ('milk', 'beef')\n",
    "food_stuff_tp = fruits + vegetables + animal_products\n",
    "print(food_stuff_tp)"
   ]
  },
  {
   "cell_type": "code",
   "execution_count": 3,
   "metadata": {},
   "outputs": [
    {
     "name": "stdout",
     "output_type": "stream",
     "text": [
      "['mango', 'orange', 'lemon', 'spinach', 'okro', 'milk', 'beef']\n"
     ]
    }
   ],
   "source": [
    "# 3. Change the about food_stuff_tp tuple to a food_stuff_lt list\n",
    "\n",
    "food_stuff_lt = list(food_stuff_tp)\n",
    "print(food_stuff_lt)"
   ]
  },
  {
   "cell_type": "code",
   "execution_count": 4,
   "metadata": {},
   "outputs": [
    {
     "name": "stdout",
     "output_type": "stream",
     "text": [
      "['lemon', 'spinach']\n"
     ]
    }
   ],
   "source": [
    "# 4. Slice out the middle item or items from the food_stuff_tp tuple or food_stuff_lt list.\n",
    "\n",
    "lemon_and_spinach = food_stuff_lt[2:4]\n",
    "print(lemon_and_spinach)"
   ]
  },
  {
   "cell_type": "code",
   "execution_count": 5,
   "metadata": {},
   "outputs": [
    {
     "name": "stdout",
     "output_type": "stream",
     "text": [
      "first_three:  ['mango', 'orange', 'lemon']\n",
      "last_three:  ['okro', 'milk', 'beef']\n"
     ]
    }
   ],
   "source": [
    "# 5. Slice out the first three items and the last three items from food_staff_lt list\n",
    "\n",
    "first_three = food_stuff_lt[0:3]\n",
    "last_three = food_stuff_lt[4:]\n",
    "print('first_three: ', first_three)\n",
    "print('last_three: ', last_three)"
   ]
  },
  {
   "cell_type": "code",
   "execution_count": 10,
   "metadata": {},
   "outputs": [],
   "source": [
    "# 6. Delete the food_staff_tp tuple completely\n",
    "food_stuff_tp = ('mango', 'orange', 'lemon', 'spinach', 'okro', 'milk', 'beef')\n",
    "del food_stuff_tp"
   ]
  },
  {
   "cell_type": "code",
   "execution_count": 11,
   "metadata": {},
   "outputs": [
    {
     "name": "stdout",
     "output_type": "stream",
     "text": [
      "Estonia is a nordic country:  False\n",
      "Iceland is a nordic country:  True\n"
     ]
    }
   ],
   "source": [
    "# 7. Check if an item exists in tuple:\n",
    "#Check if 'Estonia' is a nordic country\n",
    "#Check if 'Iceland' is a nordic country\n",
    "\n",
    "nordic_countries = ('Denmark', 'Finland','Iceland', 'Norway', 'Sweden')\n",
    "print('Estonia is a nordic country: ', 'Estonia' in nordic_countries)\n",
    "print('Iceland is a nordic country: ', 'Iceland' in nordic_countries)"
   ]
  }
 ],
 "metadata": {
  "kernelspec": {
   "display_name": ".venv",
   "language": "python",
   "name": "python3"
  },
  "language_info": {
   "codemirror_mode": {
    "name": "ipython",
    "version": 3
   },
   "file_extension": ".py",
   "mimetype": "text/x-python",
   "name": "python",
   "nbconvert_exporter": "python",
   "pygments_lexer": "ipython3",
   "version": "3.9.5"
  }
 },
 "nbformat": 4,
 "nbformat_minor": 2
}
