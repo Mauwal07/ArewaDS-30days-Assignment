{
 "cells": [
  {
   "cell_type": "markdown",
   "metadata": {},
   "source": [
    "# Exercises: Day 16"
   ]
  },
  {
   "cell_type": "code",
   "execution_count": 2,
   "metadata": {},
   "outputs": [
    {
     "name": "stdout",
     "output_type": "stream",
     "text": [
      "Day: 6\n",
      "Month: 1\n",
      "Year: 2024\n",
      "Hour: 20\n",
      "Minute: 43\n",
      "Timestamp: 1704570222.134949\n"
     ]
    }
   ],
   "source": [
    "# 1. Get the current day, month, year, hour, minute and timestamp from datetime module\n",
    "\n",
    "from datetime import datetime\n",
    "\n",
    "current_datetime = datetime.now()\n",
    "current_day = current_datetime.day\n",
    "current_month = current_datetime.month\n",
    "current_year = current_datetime.year\n",
    "current_hour = current_datetime.hour\n",
    "current_minute = current_datetime.minute\n",
    "timestamp = current_datetime.timestamp()\n",
    "print(f'Day: {current_day}')\n",
    "print(f'Month: {current_month}')\n",
    "print(f'Year: {current_year}')\n",
    "print(f'Hour: {current_hour}')\n",
    "print(f'Minute: {current_minute}')\n",
    "print(f'Timestamp: {timestamp}')\n"
   ]
  },
  {
   "cell_type": "code",
   "execution_count": 4,
   "metadata": {},
   "outputs": [
    {
     "name": "stdout",
     "output_type": "stream",
     "text": [
      "01/06/2024, 20:43:42\n"
     ]
    }
   ],
   "source": [
    "# 2. Format the current date using this format: \"%m/%d/%Y, %H:%M:%S\")\n",
    "\n",
    "current_date = current_datetime.strftime(\"%m/%d/%Y, %H:%M:%S\")\n",
    "print(current_date)"
   ]
  },
  {
   "cell_type": "code",
   "execution_count": 5,
   "metadata": {},
   "outputs": [
    {
     "name": "stdout",
     "output_type": "stream",
     "text": [
      "2019-12-05 00:00:00\n"
     ]
    }
   ],
   "source": [
    "# 3. Today is 5 December, 2019. Change this time string to time.\n",
    "\n",
    "from datetime import datetime\n",
    "\n",
    "time_string = \"5 December, 2019\"\n",
    "time = datetime.strptime(time_string, \"%d %B, %Y\")\n",
    "print(time)"
   ]
  },
  {
   "cell_type": "code",
   "execution_count": 8,
   "metadata": {},
   "outputs": [
    {
     "name": "stdout",
     "output_type": "stream",
     "text": [
      "360 days, 3:05:44.750148\n"
     ]
    }
   ],
   "source": [
    "# 4. Calculate the time difference between now and new year.\n",
    "\n",
    "from datetime import datetime\n",
    "\n",
    "current_datetime = datetime.now()\n",
    "new_year = datetime(current_datetime.year + 1, 1, 1)\n",
    "time_difference = new_year - current_datetime\n",
    "print(time_difference)"
   ]
  },
  {
   "cell_type": "code",
   "execution_count": 9,
   "metadata": {},
   "outputs": [
    {
     "name": "stdout",
     "output_type": "stream",
     "text": [
      "The time difference is 19728 days, 20:59:12.411241\n"
     ]
    }
   ],
   "source": [
    "# 5. Calculate the time difference between 1 January 1970 and now.\n",
    "\n",
    "from datetime import datetime\n",
    "\n",
    "current_datetime = datetime.now()\n",
    "date_1970 = datetime(1970, 1, 1)\n",
    "time_difference = current_datetime - date_1970\n",
    "\n",
    "print(f'The time difference is {time_difference}')"
   ]
  },
  {
   "cell_type": "code",
   "execution_count": 10,
   "metadata": {},
   "outputs": [],
   "source": [
    "# 6. Think, what can you use the datetime module for? Examples:\n",
    "#Time series analysis\n",
    "#To get a timestamp of any activities in an application\n",
    "#Adding posts on a blog"
   ]
  },
  {
   "cell_type": "markdown",
   "metadata": {},
   "source": [
    "1. Date Arithmetic: add or subtract time intervals, calculate time differences, and perform various calculations involving dates and times.\n",
    "2. Scheduling and Timers:  check the current time, compare it with a scheduled time, and trigger actions accordingly.\n",
    "3. Data Recording and Logging: enables accurate time tracking and helps in organizing and analyzing recorded data based on time.\n",
    "4. Event Scheduling: set up recurring events, handle time-based triggers, and manage event-driven workflows.\n",
    "5. File Timestamps: retrieving the creation or modification time of a file, and manipulating or comparing these timestamps. "
   ]
  }
 ],
 "metadata": {
  "kernelspec": {
   "display_name": ".venv",
   "language": "python",
   "name": "python3"
  },
  "language_info": {
   "codemirror_mode": {
    "name": "ipython",
    "version": 3
   },
   "file_extension": ".py",
   "mimetype": "text/x-python",
   "name": "python",
   "nbconvert_exporter": "python",
   "pygments_lexer": "ipython3",
   "version": "3.9.5"
  }
 },
 "nbformat": 4,
 "nbformat_minor": 2
}
