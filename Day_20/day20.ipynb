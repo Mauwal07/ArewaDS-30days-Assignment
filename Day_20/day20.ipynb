{
 "cells": [
  {
   "cell_type": "markdown",
   "metadata": {},
   "source": [
    "# Exercises: Day 20"
   ]
  },
  {
   "cell_type": "code",
   "execution_count": 7,
   "metadata": {},
   "outputs": [],
   "source": [
    "\n",
    "import re\n",
    "import requests"
   ]
  },
  {
   "cell_type": "code",
   "execution_count": 8,
   "metadata": {},
   "outputs": [
    {
     "name": "stdout",
     "output_type": "stream",
     "text": [
      " response object: <Response [404]>\n",
      " response status code: 404\n",
      " response headers: {'date': 'Sun, 07 Jan 2024 21:38:18 GMT', 'server': 'Apache', 'last-modified': 'Mon, 01 May 2023 17:35:22 GMT', 'accept-ranges': 'bytes', 'content-length': '6392', 'content-type': 'text/html'}\n",
      " result: [(23, 'lia'), (17, 'a'), (14, 'li'), (13, 'meta'), (13, 'div'), (10, 'ul'), (9, 'input'), (7, 'link'), (5, 'Gutenberg'), (5, 'of')]\n"
     ]
    }
   ],
   "source": [
    "# 1. Read this url and find the 10 most frequent words.\n",
    "# romeo_and_juliet = 'http://www.gutenberg.org/files/1112/1112.txt'\n",
    "\n",
    "url = 'http://www.gutenberg.org/files/1112/1112.txt'\n",
    "response = requests.get(url)\n",
    "print(f' response object: {response}')\n",
    "print(f' response status code: {response.status_code}')\n",
    "print(f' response headers: {response.headers}')\n",
    "text = response.text\n",
    "text = re.sub(r'[^\\w\\s]','',text)\n",
    "words = text.split()\n",
    "words_dict = {}\n",
    "for word in words:\n",
    "    words_dict[word] = words_dict.get(word,0) + 1\n",
    "words_sorted = sorted(words_dict.items(),key=lambda x:x[1],reverse=True)\n",
    "result = [(word[1],word[0]) for word in words_sorted]\n",
    "print(f' result: {result[:10]}') "
   ]
  },
  {
   "cell_type": "code",
   "execution_count": 9,
   "metadata": {},
   "outputs": [],
   "source": [
    "#2. Read the cats API and cats_api = 'https://api.thecatapi.com/v1/breeds' and find :\n",
    "#i. the min, max, mean, median, standard deviation of cats' weight in metric units.\n",
    "#ii. the min, max, mean, median, standard deviation of cats' lifespan in years.\n",
    "#iii. Create a frequency table of country and breed of cats\n",
    "\n",
    "\n",
    "cats_api = 'https://api.thecatapi.com/v1/breeds'\n",
    "\n",
    "response = requests.get(cats_api)\n",
    "\n",
    "if response.status_code == 200:\n",
    "    cat_breeds = response.json()\n",
    "else:\n",
    "    print(\"Failed to retrieve information from API\")"
   ]
  },
  {
   "cell_type": "code",
   "execution_count": 10,
   "metadata": {},
   "outputs": [
    {
     "data": {
      "text/plain": [
       "['3 - 5', '3 - 5', '3 - 7', '2 - 5', '4 - 7']"
      ]
     },
     "execution_count": 10,
     "metadata": {},
     "output_type": "execute_result"
    }
   ],
   "source": [
    "#getting  weights of all the cats in metric units\n",
    "\n",
    "cat_weight_metric = []\n",
    "for i in range(len(cat_breeds)):\n",
    "  cat_weight_metric.append(cat_breeds[i]['weight']['metric'])\n",
    "cat_weight_metric[:5]"
   ]
  },
  {
   "cell_type": "code",
   "execution_count": 11,
   "metadata": {},
   "outputs": [
    {
     "data": {
      "text/plain": [
       "['14 - 15', '9 - 12', '11 - 15', '12 - 16', '15 - 17']"
      ]
     },
     "execution_count": 11,
     "metadata": {},
     "output_type": "execute_result"
    }
   ],
   "source": [
    "# lifespan weights\n",
    "cat_weight_lifespan = []\n",
    "for i in range(len(cat_breeds)):\n",
    "  cat_weight_lifespan.append(cat_breeds[i]['life_span'])\n",
    "cat_weight_lifespan[:5]"
   ]
  },
  {
   "cell_type": "code",
   "execution_count": 12,
   "metadata": {},
   "outputs": [],
   "source": [
    "# getting a function (integers) and upper and lower limits\n",
    "def convert_to_numbers(string):\n",
    "    start, end = map(int, string.split(\" - \"))\n",
    "    return start, end\n",
    "\n",
    "# converting the weights to numbers \n",
    "cat_weight_metric_number = list(map(convert_to_numbers,cat_weight_metric))\n",
    "lower_cat_weight_metric,upper_cat_weight_metric = [i[0] for i in cat_weight_metric_number],[i[1]for i in cat_weight_metric_number]\n",
    "\n",
    "#lifespans in years\n",
    "cat_lifespan_number = list(map(convert_to_numbers,cat_weight_lifespan))\n",
    "lower_cat_lifespan,upper_cat_lifespan = [i[0] for i in cat_lifespan_number],[i[1]for i in cat_lifespan_number]\n"
   ]
  },
  {
   "cell_type": "code",
   "execution_count": 13,
   "metadata": {},
   "outputs": [
    {
     "name": "stdout",
     "output_type": "stream",
     "text": [
      "Max of upper limit of cat's weights in metric units is: 11 \n",
      "Min of upper limit of cat's weights in metric units is: 4 \n",
      "Mean of upper limit of cat's weights in metric units is: 6.1940298507462686 \n",
      "Median of upper limit of cat's weights in metric units is: 6 \n",
      "Std of upper limit of cat's weights in metric units is: 1.416769757070632 \n",
      "{'Max': 11, 'Minimum': 4, 'Mean': 6.1940298507462686, 'Median': 6, 'std': 1.416769757070632}\n"
     ]
    }
   ],
   "source": [
    "import statistics as stats\n",
    "print(f'Max of upper limit of cat\\'s weights in metric units is: {max(upper_cat_weight_metric)} ')\n",
    "print(f'Min of upper limit of cat\\'s weights in metric units is: {min(upper_cat_weight_metric)} ')\n",
    "print(f'Mean of upper limit of cat\\'s weights in metric units is: {stats.mean(upper_cat_weight_metric)} ')\n",
    "print(f'Median of upper limit of cat\\'s weights in metric units is: {stats.median(upper_cat_weight_metric)} ')\n",
    "print(f'Std of upper limit of cat\\'s weights in metric units is: {stats.stdev(upper_cat_weight_metric)} ')\n",
    "\n",
    "def stats_params(list):\n",
    "    '''\n",
    "    Takes a list and returns a dictionary of certain statistics parameters of the list\n",
    "    '''\n",
    "    import statistics as stats\n",
    "    stat = {}\n",
    "    stat['Max'] = max(list)\n",
    "    stat['Minimum'] = min(list)\n",
    "    stat['Mean'] = stats.mean(list)\n",
    "    stat['Median'] = stats.median(list)\n",
    "    stat['std'] = stats.stdev(list)\n",
    "    return stat\n",
    "print(stats_params(upper_cat_weight_metric))"
   ]
  },
  {
   "cell_type": "code",
   "execution_count": 14,
   "metadata": {},
   "outputs": [
    {
     "name": "stdout",
     "output_type": "stream",
     "text": [
      "Upper limit of cat weights in metric units: {'Max': 11, 'Minimum': 4, 'Mean': 6.1940298507462686, 'Median': 6, 'std': 1.416769757070632}, lower limit of cat weights in metric units: {'Max': 5, 'Minimum': 2, 'Mean': 3.2238805970149254, 'Median': 3, 'std': 0.8845628182703051},upper limit of cat lifespan in years : {'Max': 20, 'Minimum': 12, 'Mean': 15.417910447761194, 'Median': 15, 'std': 1.6343774065406076},lower limits of cat lifespan in years: {'Max': 18, 'Minimum': 8, 'Mean': 12.074626865671641, 'Median': 12, 'std': 1.8283411328456127}\n"
     ]
    }
   ],
   "source": [
    "print(f'Upper limit of cat weights in metric units: {stats_params(upper_cat_weight_metric)}, lower limit of cat weights in metric units: {stats_params(lower_cat_weight_metric)},upper limit of cat lifespan in years : {stats_params(upper_cat_lifespan)},lower limits of cat lifespan in years: {stats_params(lower_cat_lifespan)}')"
   ]
  },
  {
   "cell_type": "code",
   "execution_count": 15,
   "metadata": {},
   "outputs": [
    {
     "name": "stdout",
     "output_type": "stream",
     "text": [
      "Answer to first two sub questions of question 2: {'Upper limit stats of cat weights in metric units': {'Max': 11, 'Minimum': 4, 'Mean': 6.1940298507462686, 'Median': 6, 'std': 1.416769757070632}, 'Lower limit stats of cat weights in metric units': {'Max': 5, 'Minimum': 2, 'Mean': 3.2238805970149254, 'Median': 3, 'std': 0.8845628182703051}, 'Upper limit stat of cat lifespan in years': {'Max': 20, 'Minimum': 12, 'Mean': 15.417910447761194, 'Median': 15, 'std': 1.6343774065406076}, 'Lower limit stats of cat lifespan in years': {'Max': 18, 'Minimum': 8, 'Mean': 12.074626865671641, 'Median': 12, 'std': 1.8283411328456127}}\n"
     ]
    }
   ],
   "source": [
    "answer_dict = {}\n",
    "answer_dict['Upper limit stats of cat weights in metric units'] = stats_params(upper_cat_weight_metric)\n",
    "answer_dict['Lower limit stats of cat weights in metric units'] = stats_params(lower_cat_weight_metric)\n",
    "answer_dict['Upper limit stat of cat lifespan in years'] = stats_params(upper_cat_lifespan)\n",
    "answer_dict['Lower limit stats of cat lifespan in years'] = stats_params(lower_cat_lifespan)\n",
    "print(f'Answer to first two sub questions of question 2: {answer_dict}')"
   ]
  },
  {
   "cell_type": "code",
   "execution_count": 16,
   "metadata": {},
   "outputs": [
    {
     "name": "stdout",
     "output_type": "stream",
     "text": [
      "defaultdict(<class 'int'>, {'Egypt': 3, 'Greece': 1, 'United States': 28, 'United Arab Emirates': 1, 'Australia': 1, 'France': 2, 'United Kingdom': 8, 'Burma': 2, 'Canada': 3, 'Cyprus': 1, 'Russia': 4, 'China': 1, 'Japan': 1, 'Thailand': 4, 'Isle of Man': 1, 'Norway': 1, 'Iran (Persia)': 1, 'Singapore': 1, 'Somalia': 1, 'Turkey': 2})\n"
     ]
    }
   ],
   "source": [
    "#frequency table section\n",
    "from collections import defaultdict\n",
    "frequency_table = defaultdict(int)\n",
    "breed_info = {}\n",
    "for breed in cat_breeds:\n",
    "    breed_info[breed['name']] = breed['origin']\n",
    "for breed in breed_info.values():\n",
    "    frequency_table[breed] += 1\n",
    "\n",
    "print(frequency_table)"
   ]
  },
  {
   "cell_type": "code",
   "execution_count": null,
   "metadata": {},
   "outputs": [],
   "source": [
    "# 3. Read the countries API and find\n",
    "# i.the 10 largest countries\n",
    "#ii. the 10 most spoken languages\n",
    "#iii.the total number of languages in the countries API\n",
    "\n",
    "## The API: (https://restcountries.eu/rest/v2/all) not accessible."
   ]
  }
 ],
 "metadata": {
  "kernelspec": {
   "display_name": ".venv",
   "language": "python",
   "name": "python3"
  },
  "language_info": {
   "codemirror_mode": {
    "name": "ipython",
    "version": 3
   },
   "file_extension": ".py",
   "mimetype": "text/x-python",
   "name": "python",
   "nbconvert_exporter": "python",
   "pygments_lexer": "ipython3",
   "version": "3.9.5"
  }
 },
 "nbformat": 4,
 "nbformat_minor": 2
}
