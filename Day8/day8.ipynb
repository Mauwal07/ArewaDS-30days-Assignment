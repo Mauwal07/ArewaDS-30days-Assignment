{
 "cells": [
  {
   "cell_type": "markdown",
   "metadata": {},
   "source": [
    "# Exercises: Day 8"
   ]
  },
  {
   "cell_type": "code",
   "execution_count": 2,
   "metadata": {},
   "outputs": [
    {
     "name": "stdout",
     "output_type": "stream",
     "text": [
      "{}\n"
     ]
    }
   ],
   "source": [
    "# 1. Create an empty dictionary called dog\n",
    "\n",
    "dog = {}\n",
    "print(dog)"
   ]
  },
  {
   "cell_type": "code",
   "execution_count": 3,
   "metadata": {},
   "outputs": [
    {
     "name": "stdout",
     "output_type": "stream",
     "text": [
      "{'name': 'lucky', 'color': 'brown', 'breed': 'UK', 'legs': 4, 'age': 7}\n"
     ]
    }
   ],
   "source": [
    "# 2. Add name, color, breed, legs, age to the dog dictionary\n",
    "\n",
    "dog = {'name':'lucky', 'color':'brown', 'breed':'UK', 'legs': 4, 'age': 7}\n",
    "print(dog)"
   ]
  },
  {
   "cell_type": "code",
   "execution_count": 5,
   "metadata": {},
   "outputs": [
    {
     "name": "stdout",
     "output_type": "stream",
     "text": [
      "{'first_name': 'Muhammad', 'last_name': 'Auwal', 'gender': 'male', 'age': 20, 'is_married': True, 'skills': ['JavaScript', 'React', 'Node', 'MongoDB', 'Python'], 'country': 'Nigeria', 'city': 'Jos', 'address': {'street': 'Rikkos street', 'zipcode': '5678'}}\n"
     ]
    }
   ],
   "source": [
    "# 3. Create a student dictionary and add first_name, last_name, gender, age, \n",
    "# marital status, skills, country, city and address as keys for the dictionary\n",
    "\n",
    "student_dct = {\n",
    "    'first_name':'Muhammad', 'last_name':'Auwal',\n",
    "    'gender': 'male', 'age': 20,\n",
    "    'is_married': True,\n",
    "    'skills':['JavaScript', 'React', 'Node', 'MongoDB', 'Python'],\n",
    "    'country': 'Nigeria', 'city':'Jos',\n",
    "    'address': {\n",
    "        'street':'Rikkos street',\n",
    "        'zipcode':'5678'\n",
    "    }\n",
    "    }\n",
    "\n",
    "print(student_dct)"
   ]
  },
  {
   "cell_type": "code",
   "execution_count": 6,
   "metadata": {},
   "outputs": [
    {
     "name": "stdout",
     "output_type": "stream",
     "text": [
      "9\n"
     ]
    }
   ],
   "source": [
    "# 4. Get the length of the student dictionary\n",
    "\n",
    "print(len(student_dct))"
   ]
  },
  {
   "cell_type": "code",
   "execution_count": 8,
   "metadata": {},
   "outputs": [
    {
     "name": "stdout",
     "output_type": "stream",
     "text": [
      "skills_value:  ['JavaScript', 'React', 'Node', 'MongoDB', 'Python']\n",
      "skills data type is:  <class 'list'>\n"
     ]
    }
   ],
   "source": [
    "# 5. Get the value of skills and check the data type, it should be a list\n",
    "\n",
    "print('skills_value: ' , student_dct['skills'])\n",
    "print('skills data type is: ' , type(student_dct['skills']))"
   ]
  },
  {
   "cell_type": "code",
   "execution_count": 21,
   "metadata": {},
   "outputs": [
    {
     "name": "stdout",
     "output_type": "stream",
     "text": [
      "['JavaScript', 'React', 'Node', 'MongoDB', 'Python', 'C++', 'CSS']\n"
     ]
    }
   ],
   "source": [
    "# 6. Modify the skills values by adding one or two skills\n",
    "\n",
    "student_dct['skills'] = ['JavaScript', 'React', 'Node', 'MongoDB', 'Python']\n",
    "student_dct['skills'].append('C++')\n",
    "student_dct['skills'].append('CSS')\n",
    "print(student_dct['skills'])"
   ]
  },
  {
   "cell_type": "code",
   "execution_count": 23,
   "metadata": {},
   "outputs": [
    {
     "name": "stdout",
     "output_type": "stream",
     "text": [
      "dict_keys(['first_name', 'last_name', 'gender', 'age', 'is_married', 'skills', 'country', 'city', 'address'])\n"
     ]
    }
   ],
   "source": [
    "# 7. Get the dictionary keys as a list\n",
    "\n",
    "dct_keys = student_dct.keys()\n",
    "print(dct_keys)"
   ]
  },
  {
   "cell_type": "code",
   "execution_count": 24,
   "metadata": {},
   "outputs": [
    {
     "name": "stdout",
     "output_type": "stream",
     "text": [
      "dict_values(['Muhammad', 'Auwal', 'male', 20, True, ['JavaScript', 'React', 'Node', 'MongoDB', 'Python', 'C++', 'CSS'], 'Nigeria', 'Jos', {'street': 'Rikkos street', 'zipcode': '5678'}])\n"
     ]
    }
   ],
   "source": [
    "# 8. Get the dictionary values as a list\n",
    "\n",
    "dct_values = student_dct.values()\n",
    "print(dct_values)"
   ]
  },
  {
   "cell_type": "code",
   "execution_count": 25,
   "metadata": {},
   "outputs": [
    {
     "data": {
      "text/plain": [
       "dict_items([('first_name', 'Muhammad'), ('last_name', 'Auwal'), ('gender', 'male'), ('age', 20), ('is_married', True), ('skills', ['JavaScript', 'React', 'Node', 'MongoDB', 'Python', 'C++', 'CSS']), ('country', 'Nigeria'), ('city', 'Jos'), ('address', {'street': 'Rikkos street', 'zipcode': '5678'})])"
      ]
     },
     "execution_count": 25,
     "metadata": {},
     "output_type": "execute_result"
    }
   ],
   "source": [
    "# 9. Change the dictionary to a list of tuples using items() method\n",
    "\n",
    "student_dct.items()"
   ]
  },
  {
   "cell_type": "code",
   "execution_count": 35,
   "metadata": {},
   "outputs": [
    {
     "name": "stdout",
     "output_type": "stream",
     "text": [
      "{'first_name': 'Muhammad', 'last_name': 'Auwal', 'gender': 'male', 'is_married': True, 'skills': ['JavaScript', 'React', 'Node', 'MongoDB', 'Python'], 'country': 'Nigeria', 'city': 'Jos', 'address': {'street': 'Rikkos street', 'zipcode': '5678'}}\n"
     ]
    }
   ],
   "source": [
    "# 10. Delete one of the items in the dictionary\n",
    "\n",
    "student_dct = {\n",
    "    'first_name':'Muhammad', 'last_name':'Auwal',\n",
    "    'gender': 'male', 'age': 20,\n",
    "    'is_married': True,\n",
    "    'skills':['JavaScript', 'React', 'Node', 'MongoDB', 'Python'],\n",
    "    'country': 'Nigeria', 'city':'Jos',\n",
    "    'address': {\n",
    "        'street':'Rikkos street',\n",
    "        'zipcode':'5678'\n",
    "    }\n",
    "    }\n",
    "student_dct.pop('age')\n",
    "#del student_dct['age'] # another way\n",
    "print(student_dct)"
   ]
  },
  {
   "cell_type": "code",
   "execution_count": 36,
   "metadata": {},
   "outputs": [],
   "source": [
    "# 11. Delete one of the dictionaries\n",
    "\n",
    "del dog"
   ]
  }
 ],
 "metadata": {
  "kernelspec": {
   "display_name": ".venv",
   "language": "python",
   "name": "python3"
  },
  "language_info": {
   "codemirror_mode": {
    "name": "ipython",
    "version": 3
   },
   "file_extension": ".py",
   "mimetype": "text/x-python",
   "name": "python",
   "nbconvert_exporter": "python",
   "pygments_lexer": "ipython3",
   "version": "3.9.5"
  }
 },
 "nbformat": 4,
 "nbformat_minor": 2
}
