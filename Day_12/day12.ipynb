{
 "cells": [
  {
   "cell_type": "markdown",
   "metadata": {},
   "source": [
    "# Exercises: Day 12\n"
   ]
  },
  {
   "cell_type": "markdown",
   "metadata": {},
   "source": [
    "### Exercises: Level 1"
   ]
  },
  {
   "cell_type": "code",
   "execution_count": 3,
   "metadata": {},
   "outputs": [
    {
     "name": "stdout",
     "output_type": "stream",
     "text": [
      "4miypm\n"
     ]
    }
   ],
   "source": [
    "# 1. Write a function which generates a six digit/character random_user_id\n",
    "\n",
    "import random\n",
    "import string\n",
    "\n",
    "def random_user_id():\n",
    "    characters = string.digits + string.ascii_letters \n",
    "    user_id = ''.join(random.choices(characters, k=6))\n",
    "    return user_id\n",
    "print(random_user_id())"
   ]
  },
  {
   "cell_type": "code",
   "execution_count": 5,
   "metadata": {},
   "outputs": [
    {
     "name": "stdout",
     "output_type": "stream",
     "text": [
      "['Y2dTtnEYI', '0j5GaJGV3', '8ay9GR1v3', '8TKXFmdh7', 'QdmVQV1fK', 'ttTabVFjO', 'q4yaYPmhe']\n"
     ]
    }
   ],
   "source": [
    "# 2. Modify the previous task. Declare a function named user_id_gen_by_user.\n",
    "# It doesn’t take any parameters but it takes two inputs using input().\n",
    "# One of the inputs is the number of characters and\n",
    "# the second input is the number of IDs which are supposed to be generated.\n",
    "\n",
    "import random\n",
    "import string\n",
    "\n",
    "def user_id_gen_by_user():\n",
    "    x = int(input(\"Please enter the number of characters: \"))\n",
    "    y = int(input(\"Please enter the number of IDs: \"))\n",
    "\n",
    "    ids = []\n",
    "    characters = string.digits +string.ascii_letters\n",
    "\n",
    "    for i in range(y):\n",
    "        id = ''.join(random.choices(characters, k=x))\n",
    "        ids.append(id)\n",
    "\n",
    "    return ids\n",
    "\n",
    "print(user_id_gen_by_user())"
   ]
  },
  {
   "cell_type": "code",
   "execution_count": 6,
   "metadata": {},
   "outputs": [
    {
     "name": "stdout",
     "output_type": "stream",
     "text": [
      "rgb(85, 14, 35)\n"
     ]
    }
   ],
   "source": [
    "# 3. Write a function named rgb_color_gen.\n",
    "# It will generate rgb colors (3 values ranging from 0 to 255 each).\n",
    "\n",
    "import random\n",
    "\n",
    "def rgb_color_gen():\n",
    "    red, green, blue = random.randint(0, 255), random.randint(0, 255), random.randint(0, 255)\n",
    "    return red, green, blue\n",
    "\n",
    "print(f'rgb{rgb_color_gen()}')"
   ]
  },
  {
   "cell_type": "markdown",
   "metadata": {},
   "source": [
    "### Exercises: Level 2"
   ]
  },
  {
   "cell_type": "code",
   "execution_count": 7,
   "metadata": {},
   "outputs": [
    {
     "name": "stdout",
     "output_type": "stream",
     "text": [
      "['#C2896E', '#C26B00', '#6C4AA2', '#AAB15B', '#40266E', '#CC0ADB', '#47FFAD', '#E2350B', '#E0CF38']\n"
     ]
    }
   ],
   "source": [
    "# 1. Write a function list_of_hexa_colors which returns any number of hexadecimal colors \n",
    "# in an array (six hexadecimal numbers written after #. \n",
    "# Hexadecimal numeral system is made out of 16 symbols, 0-9 and\n",
    "# first 6 letters of the alphabet, a-f. Check the task 6 for output examples).\n",
    "\n",
    "import random\n",
    "\n",
    "def list_of_hexa_colors(x):\n",
    "    hexa_colors = []\n",
    "    for i in range(x):\n",
    "        color = \"\".join(random.choices(\"0123456789ABCDEF\", k=6))\n",
    "        hexa_colors.append('#' + color)\n",
    "    return hexa_colors\n",
    "\n",
    "print(list_of_hexa_colors(9))"
   ]
  },
  {
   "cell_type": "code",
   "execution_count": 8,
   "metadata": {},
   "outputs": [
    {
     "name": "stdout",
     "output_type": "stream",
     "text": [
      "[(217, 104, 115), (221, 98, 219), (93, 58, 182), (4, 199, 35), (34, 17, 194), (144, 145, 152), (106, 141, 79), (1, 203, 102)]\n"
     ]
    }
   ],
   "source": [
    "# 2. Write a function list_of_rgb_colors which returns any number of RGB colors in an array.\n",
    "\n",
    "import random\n",
    "\n",
    "def list_of_rgb_colors(x):\n",
    "    rgb_colors = []\n",
    "    for i in range(x):\n",
    "        red, green, blue = random.randint(0, 255), random.randint(0, 255), random.randint(0, 255)\n",
    "        color = (red, green, blue)\n",
    "        rgb_colors.append(color)\n",
    "    return rgb_colors\n",
    "\n",
    "print(list_of_rgb_colors(8))"
   ]
  },
  {
   "cell_type": "code",
   "execution_count": 9,
   "metadata": {},
   "outputs": [
    {
     "name": "stdout",
     "output_type": "stream",
     "text": [
      "['#05556A', '#74D909', '#53A122', '#9A3B62', '#18AE47', '#719221', '#79F1A6']\n",
      "[(44, 107, 230), (54, 99, 229), (44, 194, 137), (16, 148, 129), (227, 248, 106), (77, 142, 21)]\n"
     ]
    }
   ],
   "source": [
    "# 3. Write a function generate_colors which can generate any number of hexa or rgb colors.\n",
    "\n",
    "def generate_colors(type,num):\n",
    "    if type == 'hexa':\n",
    "        colors = list_of_hexa_colors(num)\n",
    "    elif type == 'rgb':\n",
    "        colors = list_of_rgb_colors(num)\n",
    "    return colors\n",
    "\n",
    "print(generate_colors('hexa',7))\n",
    "print(generate_colors('rgb',6))"
   ]
  },
  {
   "cell_type": "markdown",
   "metadata": {},
   "source": [
    "### Exercises: Level 3"
   ]
  },
  {
   "cell_type": "code",
   "execution_count": 10,
   "metadata": {},
   "outputs": [
    {
     "name": "stdout",
     "output_type": "stream",
     "text": [
      "[6, 9, 7, 5, 8]\n"
     ]
    }
   ],
   "source": [
    "# 1. Call your function shuffle_list, \n",
    "# it takes a list as a parameter and it returns a shuffled list\n",
    "\n",
    "import random\n",
    "\n",
    "def shuffle_list(list):\n",
    "    random.shuffle(list)\n",
    "    return list\n",
    "print(shuffle_list([5,6,7,8,9]))"
   ]
  },
  {
   "cell_type": "code",
   "execution_count": 11,
   "metadata": {},
   "outputs": [
    {
     "name": "stdout",
     "output_type": "stream",
     "text": [
      "[3, 2, 9, 8, 7, 4, 1]\n"
     ]
    }
   ],
   "source": [
    "# 2. Write a function which returns an array of seven random numbers in a range of 0-9.\n",
    "# All the numbers must be unique.\n",
    "\n",
    "def generate_unique_nums():\n",
    "     unique_nums = random.sample([0,1,2,3,4,5,6,7,8,9], k=7)\n",
    "     return unique_nums\n",
    "print(generate_unique_nums())"
   ]
  }
 ],
 "metadata": {
  "kernelspec": {
   "display_name": ".venv",
   "language": "python",
   "name": "python3"
  },
  "language_info": {
   "codemirror_mode": {
    "name": "ipython",
    "version": 3
   },
   "file_extension": ".py",
   "mimetype": "text/x-python",
   "name": "python",
   "nbconvert_exporter": "python",
   "pygments_lexer": "ipython3",
   "version": "3.9.5"
  }
 },
 "nbformat": 4,
 "nbformat_minor": 2
}
