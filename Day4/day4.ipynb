{
 "cells": [
  {
   "cell_type": "markdown",
   "metadata": {},
   "source": [
    "# Exercises - Day 4"
   ]
  },
  {
   "cell_type": "code",
   "execution_count": 6,
   "metadata": {},
   "outputs": [
    {
     "name": "stdout",
     "output_type": "stream",
     "text": [
      "Thirty Days Of Python\n"
     ]
    }
   ],
   "source": [
    "# 1 Concatenate the string 'Thirty', 'Days', 'Of', 'Python' to a single string, 'Thirty Days Of Python'.\n",
    "\n",
    "print('Thirty'+ \" \" + 'Days' + \" \" + 'Of' + \" \" + 'Python')"
   ]
  },
  {
   "cell_type": "code",
   "execution_count": 8,
   "metadata": {},
   "outputs": [
    {
     "name": "stdout",
     "output_type": "stream",
     "text": [
      "Coding For All\n"
     ]
    }
   ],
   "source": [
    "# 2 Concatenate the string 'Coding', 'For' , 'All' to a single string, 'Coding For All'.\n",
    "\n",
    "print('Coding' + \" \" + 'For' + \" \" + 'All')"
   ]
  },
  {
   "cell_type": "code",
   "execution_count": 10,
   "metadata": {},
   "outputs": [
    {
     "name": "stdout",
     "output_type": "stream",
     "text": [
      "Coding For All\n"
     ]
    }
   ],
   "source": [
    "# 3 Declare a variable named company and assign it to an initial value \"Coding For All\".\n",
    "\n",
    "company = \"Coding For All\"\n",
    "\n",
    "# 4 Print the variable company using print().\n",
    "\n",
    "print(company)"
   ]
  },
  {
   "cell_type": "code",
   "execution_count": 11,
   "metadata": {},
   "outputs": [
    {
     "name": "stdout",
     "output_type": "stream",
     "text": [
      "14\n"
     ]
    }
   ],
   "source": [
    "# 5 Print the length of the company string using len() method and print().\n",
    "\n",
    "company = \"Coding For All\"\n",
    "len(company)\n",
    "print(len(company))"
   ]
  },
  {
   "cell_type": "code",
   "execution_count": 13,
   "metadata": {},
   "outputs": [
    {
     "name": "stdout",
     "output_type": "stream",
     "text": [
      "CODING FOR ALL\n"
     ]
    }
   ],
   "source": [
    "# 6 Change all the characters to uppercase letters using upper() method.\n",
    "\n",
    "company = \"Coding For All\"\n",
    "company.upper()\n",
    "print(company.upper())\n",
    "\n"
   ]
  },
  {
   "cell_type": "code",
   "execution_count": 14,
   "metadata": {},
   "outputs": [
    {
     "name": "stdout",
     "output_type": "stream",
     "text": [
      "coding for all\n"
     ]
    }
   ],
   "source": [
    "# 7 Change all the characters to lowercase letters using lower() method.\n",
    "\n",
    "company = \"Coding For All\"\n",
    "company.lower()\n",
    "print(company.lower())"
   ]
  },
  {
   "cell_type": "code",
   "execution_count": 19,
   "metadata": {},
   "outputs": [
    {
     "name": "stdout",
     "output_type": "stream",
     "text": [
      "using capitalize: Coding for all \n",
      "using title: Coding For All \n",
      "using swapcase: cODING fOR aLL \n"
     ]
    }
   ],
   "source": [
    "# 8 Use capitalize(), title(), swapcase() methods to format the value of the string Coding For All.\n",
    "\n",
    "company = \"Coding For All\"\n",
    "\n",
    "print(f'using capitalize: {company.capitalize()} ')\n",
    "print(f'using title: {company.title()} ')\n",
    "print(f'using swapcase: {company.swapcase()} ')"
   ]
  },
  {
   "cell_type": "code",
   "execution_count": 21,
   "metadata": {},
   "outputs": [
    {
     "name": "stdout",
     "output_type": "stream",
     "text": [
      "Coding For\n"
     ]
    }
   ],
   "source": [
    "# 9 Cut(slice) out the first word of Coding For All string.\n",
    "\n",
    "company = \"Coding For All\"\n",
    "first_two = company[0:10]\n",
    "print(first_two)"
   ]
  },
  {
   "cell_type": "code",
   "execution_count": 22,
   "metadata": {},
   "outputs": [
    {
     "name": "stdout",
     "output_type": "stream",
     "text": [
      "0\n"
     ]
    }
   ],
   "source": [
    "# 10 Check if Coding For All string contains a word Coding using the method index, find or other methods.\n",
    "\n",
    "company = \"Coding For All\"\n",
    "sub_string = 'Coding'\n",
    "print(company.index(sub_string))"
   ]
  },
  {
   "cell_type": "code",
   "execution_count": 24,
   "metadata": {},
   "outputs": [
    {
     "name": "stdout",
     "output_type": "stream",
     "text": [
      "Python For All\n"
     ]
    }
   ],
   "source": [
    "# 11. Replace the word coding in the string 'Coding For All' to Python.\n",
    "\n",
    "company = \"Coding For All\"\n",
    "print(company.replace('Coding' , 'Python'))"
   ]
  },
  {
   "cell_type": "code",
   "execution_count": 25,
   "metadata": {},
   "outputs": [
    {
     "name": "stdout",
     "output_type": "stream",
     "text": [
      "Python for All\n"
     ]
    }
   ],
   "source": [
    "# 12. Change Python for Everyone to Python for All using the replace method or other methods.\n",
    "\n",
    "company = \"Python for Everyone\"\n",
    "print(company.replace('Python for Everyone' , 'Python for All'))\n",
    "\n"
   ]
  },
  {
   "cell_type": "code",
   "execution_count": 40,
   "metadata": {},
   "outputs": [
    {
     "name": "stdout",
     "output_type": "stream",
     "text": [
      "['Coding', 'For', 'All']\n"
     ]
    }
   ],
   "source": [
    "# 13. Split the string 'Coding For All' using space as the separator (split()).\n",
    "\n",
    "company = \"Coding For All\"\n",
    "print(company.split(\" \"))"
   ]
  },
  {
   "cell_type": "code",
   "execution_count": 41,
   "metadata": {},
   "outputs": [
    {
     "name": "stdout",
     "output_type": "stream",
     "text": [
      "['Facebook', 'Google', 'Microsoft', 'Apple', 'IBM', 'Oracle', 'Amazon']\n"
     ]
    }
   ],
   "source": [
    "# 14. \"Facebook, Google, Microsoft, Apple, IBM, Oracle, Amazon\" split the string at the comma.\n",
    "\n",
    "company = \"Facebook, Google, Microsoft, Apple, IBM, Oracle, Amazon\"\n",
    "print(company.split(\", \"))"
   ]
  },
  {
   "cell_type": "code",
   "execution_count": 42,
   "metadata": {},
   "outputs": [
    {
     "name": "stdout",
     "output_type": "stream",
     "text": [
      "C\n"
     ]
    }
   ],
   "source": [
    "# 15. What is the character at index 0 in the string Coding For All.\n",
    "\n",
    "company = \"Coding For All\"\n",
    "\n",
    "first_character = company[0:1]\n",
    "print(first_character)"
   ]
  },
  {
   "cell_type": "code",
   "execution_count": 45,
   "metadata": {},
   "outputs": [
    {
     "name": "stdout",
     "output_type": "stream",
     "text": [
      "13\n"
     ]
    }
   ],
   "source": [
    "# 16. What is the last index of the string Coding For All.\n",
    "\n",
    "company = \"Coding For All\"\n",
    "print(company.rfind('l'))\n",
    "# company[-1:-2] == company[13:13]"
   ]
  },
  {
   "cell_type": "code",
   "execution_count": 50,
   "metadata": {},
   "outputs": [
    {
     "name": "stdout",
     "output_type": "stream",
     "text": [
      " \n"
     ]
    }
   ],
   "source": [
    "# 17. What character is at index 10 in \"Coding For All\" string.\n",
    "\n",
    "company = \"Coding For All\"\n",
    "print(company[10:11])  # the result is an empty space"
   ]
  },
  {
   "cell_type": "code",
   "execution_count": 51,
   "metadata": {},
   "outputs": [
    {
     "name": "stdout",
     "output_type": "stream",
     "text": [
      "PFE\n"
     ]
    }
   ],
   "source": [
    "# 18. Create an acronym or an abbreviation for the name 'Python For Everyone'.\n",
    "\n",
    "company = \"Python For Everyone\"\n",
    "print(company[0:1] + company[7:8] + company[11:12])"
   ]
  },
  {
   "cell_type": "code",
   "execution_count": 52,
   "metadata": {},
   "outputs": [
    {
     "name": "stdout",
     "output_type": "stream",
     "text": [
      "CFA\n"
     ]
    }
   ],
   "source": [
    "# 19. Create an acronym or an abbreviation for the name 'Coding For All'.\n",
    "\n",
    "company = \"Coding For All\"\n",
    "print(company[0:1] + company[7:8] + company[11:12])"
   ]
  },
  {
   "cell_type": "code",
   "execution_count": 56,
   "metadata": {},
   "outputs": [
    {
     "name": "stdout",
     "output_type": "stream",
     "text": [
      "0\n"
     ]
    }
   ],
   "source": [
    "# 20. Use index to determine the position of the first occurrence of C in Coding For All.\n",
    "\n",
    "company = \"Coding For All\"\n",
    "# print(company.find('C'))  # another way\n",
    "print(company.index('C'))"
   ]
  },
  {
   "cell_type": "code",
   "execution_count": 1,
   "metadata": {},
   "outputs": [
    {
     "name": "stdout",
     "output_type": "stream",
     "text": [
      "7\n"
     ]
    }
   ],
   "source": [
    "# 21. Use index to determine the position of the first occurrence of F in Coding For All.\n",
    "\n",
    "company = \"Coding For All\"\n",
    "# print(company.find('F'))  # another way\n",
    "print(company.index('F'))"
   ]
  },
  {
   "cell_type": "code",
   "execution_count": 3,
   "metadata": {},
   "outputs": [
    {
     "name": "stdout",
     "output_type": "stream",
     "text": [
      "19\n"
     ]
    }
   ],
   "source": [
    "# 22. Use rfind to determine the position of the last occurrence of l in Coding For All People.\n",
    "\n",
    "company = \"Coding For All People\"\n",
    "print(company.rfind('l'))  \n"
   ]
  },
  {
   "cell_type": "code",
   "execution_count": 4,
   "metadata": {},
   "outputs": [
    {
     "name": "stdout",
     "output_type": "stream",
     "text": [
      "31\n"
     ]
    }
   ],
   "source": [
    "# 23. Use index or find to find the position of the first occurrence of the word 'because' in the following sentence:\n",
    "# 'You cannot end a sentence with because because because is a conjunction'\n",
    "\n",
    "company = \"You cannot end a sentence with because because because is a conjunction\"\n",
    "# print(company.find('because'))  # another way\n",
    "print(company.index('because'))"
   ]
  },
  {
   "cell_type": "code",
   "execution_count": 5,
   "metadata": {},
   "outputs": [
    {
     "name": "stdout",
     "output_type": "stream",
     "text": [
      "47\n"
     ]
    }
   ],
   "source": [
    "# 24. Use rindex to find the position of the last occurrence of the word because in the following sentence:\n",
    "# 'You cannot end a sentence with because because because is a conjunction'\n",
    "\n",
    "company = \"You cannot end a sentence with because because because is a conjunction\"\n",
    "print(company.rindex('because'))"
   ]
  },
  {
   "cell_type": "code",
   "execution_count": 14,
   "metadata": {},
   "outputs": [
    {
     "name": "stdout",
     "output_type": "stream",
     "text": [
      "because because because\n"
     ]
    }
   ],
   "source": [
    "# 25. Slice out the phrase 'because because because' in the following sentence:\n",
    "# 'You cannot end a sentence with because because because is a conjunction'\n",
    "\n",
    "company = \"You cannot end a sentence with because because because is a conjunction\"\n",
    "print(company[31:54])"
   ]
  },
  {
   "cell_type": "code",
   "execution_count": 15,
   "metadata": {},
   "outputs": [
    {
     "name": "stdout",
     "output_type": "stream",
     "text": [
      "31\n"
     ]
    }
   ],
   "source": [
    "# 26. Find the position of the first occurrence of the word 'because' in the following sentence:\n",
    "# 'You cannot end a sentence with because because because is a conjunction'\n",
    "\n",
    "company = \"You cannot end a sentence with because because because is a conjunction\"\n",
    "print(company.find('because'))\n",
    "\n"
   ]
  },
  {
   "cell_type": "code",
   "execution_count": 16,
   "metadata": {},
   "outputs": [
    {
     "name": "stdout",
     "output_type": "stream",
     "text": [
      "because because because\n"
     ]
    }
   ],
   "source": [
    "# 27. Slice out the phrase 'because because because' in the following sentence:\n",
    "# 'You cannot end a sentence with because because because is a conjunction'\n",
    "\n",
    "company = \"You cannot end a sentence with because because because is a conjunction\"\n",
    "print(company[31:54])"
   ]
  },
  {
   "cell_type": "code",
   "execution_count": 23,
   "metadata": {},
   "outputs": [
    {
     "name": "stdout",
     "output_type": "stream",
     "text": [
      "True\n"
     ]
    }
   ],
   "source": [
    "# 28. Does ''Coding For All' start with a substring Coding?\n",
    "\n",
    "company = \"Coding For All\"\n",
    "sub_string = 'Coding'\n",
    "#print(company.index(sub_string) == 0) # another way\n",
    "print(company.startswith(sub_string))"
   ]
  },
  {
   "cell_type": "code",
   "execution_count": 22,
   "metadata": {},
   "outputs": [
    {
     "name": "stdout",
     "output_type": "stream",
     "text": [
      "False\n"
     ]
    }
   ],
   "source": [
    "# 29. Does 'Coding For All' end with a substring coding?\n",
    "\n",
    "company = \"Coding For All\"\n",
    "sub_string = 'Coding'\n",
    "print(company.endswith(sub_string))"
   ]
  },
  {
   "cell_type": "code",
   "execution_count": 29,
   "metadata": {},
   "outputs": [
    {
     "name": "stdout",
     "output_type": "stream",
     "text": [
      "Coding For All\n"
     ]
    }
   ],
   "source": [
    "# 30. '   Coding For All      '  , remove the left and right trailing spaces in the given string.\n",
    "\n",
    "company = '   Coding For All      '\n",
    "print(company.strip('       '))"
   ]
  },
  {
   "cell_type": "code",
   "execution_count": 34,
   "metadata": {},
   "outputs": [
    {
     "name": "stdout",
     "output_type": "stream",
     "text": [
      "30DaysOfPython:  False\n",
      "thirty_days_of_python:  True\n"
     ]
    }
   ],
   "source": [
    "# 31.  Which one of the following variables return True when we use the method isidentifier():\n",
    "#30DaysOfPython\n",
    "#thirty_days_of_python\n",
    "\n",
    "company_1 = '30DaysOfPython'\n",
    "company_2 = 'thirty_days_of_python'\n",
    "\n",
    "\n",
    "print(\"30DaysOfPython: \", company_1.isidentifier())\n",
    "\n",
    "print(\"thirty_days_of_python: \", company_2.isidentifier())"
   ]
  },
  {
   "cell_type": "code",
   "execution_count": 48,
   "metadata": {},
   "outputs": [
    {
     "name": "stdout",
     "output_type": "stream",
     "text": [
      "Django# Flask# Bottle# Pyramid# Falcon\n"
     ]
    }
   ],
   "source": [
    "# 32. The following list contains the names of some of python libraries: \n",
    "# ['Django', 'Flask', 'Bottle', 'Pyramid', 'Falcon']. Join the list with a hash with space string.\n",
    "\n",
    "company = ['Django', 'Flask', 'Bottle', 'Pyramid', 'Falcon']\n",
    "result = '# '.join(company)\n",
    "print(result)\n",
    "#print('# '.join(company))"
   ]
  },
  {
   "cell_type": "markdown",
   "metadata": {},
   "source": [
    "\n",
    "13 & 14\n",
    "\n",
    "\n",
    "\n",
    "\n",
    "\n",
    "\n",
    "\n",
    "\n",
    "\n",
    "\n",
    "\n",
    "\n",
    "\n",
    "\n",
    "\n",
    "\n",
    "\n",
    "\n",
    "\n",
    "\n",
    "\n"
   ]
  }
 ],
 "metadata": {
  "kernelspec": {
   "display_name": ".venv",
   "language": "python",
   "name": "python3"
  },
  "language_info": {
   "codemirror_mode": {
    "name": "ipython",
    "version": 3
   },
   "file_extension": ".py",
   "mimetype": "text/x-python",
   "name": "python",
   "nbconvert_exporter": "python",
   "pygments_lexer": "ipython3",
   "version": "3.9.5"
  }
 },
 "nbformat": 4,
 "nbformat_minor": 2
}
