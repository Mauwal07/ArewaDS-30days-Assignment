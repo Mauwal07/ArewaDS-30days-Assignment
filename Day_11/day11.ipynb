{
 "cells": [
  {
   "cell_type": "markdown",
   "metadata": {},
   "source": [
    "# Exercises: Day 11\n"
   ]
  },
  {
   "cell_type": "markdown",
   "metadata": {},
   "source": [
    "### Exercises: Level 1"
   ]
  },
  {
   "cell_type": "code",
   "execution_count": 5,
   "metadata": {},
   "outputs": [
    {
     "name": "stdout",
     "output_type": "stream",
     "text": [
      "17\n"
     ]
    }
   ],
   "source": [
    "# 1. Declare a function add_two_numbers. It takes two parameters and it returns a sum.\n",
    "\n",
    "def add_two_number(num_1, num_2):\n",
    "    sum_numbers = num_1 + num_2\n",
    "    return sum_numbers\n",
    "print(add_two_number(8, 9))\n"
   ]
  },
  {
   "cell_type": "code",
   "execution_count": 8,
   "metadata": {},
   "outputs": [
    {
     "name": "stdout",
     "output_type": "stream",
     "text": [
      "254.50199999999998\n"
     ]
    }
   ],
   "source": [
    "# 2. Area of a circle is calculated as follows: area = π x r x r. Write a function that calculates area_of_circle.\n",
    "\n",
    "def area_of_circle(r):\n",
    "    π = 3.142\n",
    "    area_of_circle = π * r * r\n",
    "    return area_of_circle\n",
    "print(area_of_circle(9))\n"
   ]
  },
  {
   "cell_type": "code",
   "execution_count": 31,
   "metadata": {},
   "outputs": [
    {
     "name": "stdout",
     "output_type": "stream",
     "text": [
      "29\n",
      "Kindly enter an integer or decimal number\n"
     ]
    }
   ],
   "source": [
    "# 3. Write a function called add_all_nums which takes arbitrary number of arguments and sums all the arguments.\n",
    "# Check if all the list items are number types. If not do give a reasonable feedback.\n",
    "\n",
    "def add_all_num(*nums):\n",
    "    sum_all = 0\n",
    "    for num in nums:\n",
    "        if type(num)==float or type(num)==int:\n",
    "            sum_all += num\n",
    "        else:\n",
    "            sum_all = 'Kindly enter an integer or decimal number'\n",
    "    return sum_all\n",
    "print(add_all_num(5,3,4,6,2,9)) # 29\n",
    "print(add_all_num('d'))    # feedback message 'Kindly enter an integer or decimal number'"
   ]
  },
  {
   "cell_type": "code",
   "execution_count": 32,
   "metadata": {},
   "outputs": [
    {
     "name": "stdout",
     "output_type": "stream",
     "text": [
      "The equivalent of 20 degrees celsius is 68.0 Fahrenheits\n"
     ]
    }
   ],
   "source": [
    "# 4. Temperature in °C can be converted to °F using this formula: °F = (°C x 9/5) + 32.\n",
    "# Write a function which converts °C to °F, convert_celsius_to_fahrenheit.\n",
    "\n",
    "def convert_celsius_to_fahrenheit(celsius_value):\n",
    "    fahrenheit_equivalent = (celsius_value * (9/5)) + 32\n",
    "    return fahrenheit_equivalent\n",
    "print(f'The equivalent of 20 degrees celsius is {convert_celsius_to_fahrenheit(20)} Fahrenheits')"
   ]
  },
  {
   "cell_type": "code",
   "execution_count": 40,
   "metadata": {},
   "outputs": [
    {
     "name": "stdout",
     "output_type": "stream",
     "text": [
      "The season is Summer since the month is august\n",
      "august\n"
     ]
    }
   ],
   "source": [
    "# 5. Write a function called check-season, it takes a month parameter and returns the season:\n",
    "# Autumn, Winter, Spring or Summer.\n",
    "\n",
    "def check_season(month):\n",
    "        \n",
    "    if month == 'september' or month == 'october'or month == 'november':\n",
    "        print(f'The season is Autumn since the month is {month}')\n",
    "        \n",
    "    elif month == 'december' or month == 'january'or month == 'february':\n",
    "        print(f'The season is Winter since the month is {month}')\n",
    "    \n",
    "    elif month == 'march' or month == 'april'or month == 'may':\n",
    "        print(f'The season is Spring since the month is {month}')\n",
    "    \n",
    "    elif month == 'june' or month == 'july'or month == 'august':\n",
    "        print(f'The season is Summer since the month is {month}')\n",
    "    \n",
    "    else:\n",
    "        print('The text enter is not part of the calender months')\n",
    "    \n",
    "    return month\n",
    "print(check_season('august'))\n",
    "    "
   ]
  },
  {
   "cell_type": "code",
   "execution_count": 21,
   "metadata": {},
   "outputs": [
    {
     "name": "stdout",
     "output_type": "stream",
     "text": [
      "0.4\n"
     ]
    }
   ],
   "source": [
    "# 6. Write a function called calculate_slope which return the slope of a linear equation\n",
    "\n",
    "# Linear equation is given by: y = mx + c. where m is the slope\n",
    "def calculate_slope(x,y,c):\n",
    "    m = (y-c) / x\n",
    "    return m\n",
    "print(calculate_slope(x=5,y=3,c=1))\n"
   ]
  },
  {
   "cell_type": "code",
   "execution_count": 41,
   "metadata": {},
   "outputs": [
    {
     "name": "stdout",
     "output_type": "stream",
     "text": [
      "The solution set of x2 + 5x + 6 is (-2.0, -3.0)\n"
     ]
    }
   ],
   "source": [
    "# 7. Quadratic equation is calculated as follows: ax² + bx + c = 0. \n",
    "# Write a function which calculates solution set of a quadratic equation, solve_quadratic_eqn.\n",
    "\n",
    "def solve_quadratic_eqn(a,b,c):\n",
    "    x1 = (-b + (b**2 - 4 *a*c)**(1/2))/ (2*a)\n",
    "    x2 = (-b - (b**2 - 4 *a*c)**(1/2))/ (2*a)\n",
    "    return x1,x2\n",
    "print(f'The solution set of x2 + 5x + 6 is {solve_quadratic_eqn(1,5,6)}')    "
   ]
  },
  {
   "cell_type": "code",
   "execution_count": 6,
   "metadata": {},
   "outputs": [
    {
     "name": "stdout",
     "output_type": "stream",
     "text": [
      "1\n",
      "2\n",
      "3\n",
      "4\n",
      "5\n",
      "6\n",
      "None\n"
     ]
    }
   ],
   "source": [
    "# 8. Declare a function named print_list.\n",
    "# It takes a list as a parameter and it prints out each element of the list.\n",
    "\n",
    "def print_list(a):\n",
    "    for item in a:\n",
    "        print(item)\n",
    "    return \n",
    "print(print_list([1,2,3,4,5,6]))\n",
    "    "
   ]
  },
  {
   "cell_type": "code",
   "execution_count": 45,
   "metadata": {},
   "outputs": [
    {
     "name": "stdout",
     "output_type": "stream",
     "text": [
      "[5, 6, 7, 8, 9]\n"
     ]
    }
   ],
   "source": [
    "# 9. Declare a function named reverse_list.\n",
    "# It takes an array as a parameter and it returns the reverse of the array (use loops).\n",
    "    \n",
    "def reverse_list(lst):\n",
    "    rev_lst = []\n",
    "    for i in range(len(lst)-1,-1,-1):\n",
    "        rev_lst.append(lst[i])\n",
    "    return rev_lst\n",
    "print(reverse_list([9,8,7,6,5]))"
   ]
  },
  {
   "cell_type": "code",
   "execution_count": 51,
   "metadata": {},
   "outputs": [
    {
     "name": "stdout",
     "output_type": "stream",
     "text": [
      "['MANGO', 'ORANGE', 'APPLE', 'BANANA']\n"
     ]
    }
   ],
   "source": [
    "# 10. Declare a function named capitalize_list_items.\n",
    "# It takes a list as a parameter and it returns a capitalized list of items\n",
    "\n",
    "def capitalize_list_items(lst):\n",
    "    capitalize_list = []\n",
    "    for i in range(len(lst)):\n",
    "    #for i in range(0,len(lst),1):   another way\n",
    "        capitalize_list.append(lst[i].upper())\n",
    "    return capitalize_list\n",
    "print(capitalize_list_items(['mango','orange','apple','banana']))"
   ]
  },
  {
   "cell_type": "code",
   "execution_count": 62,
   "metadata": {},
   "outputs": [
    {
     "name": "stdout",
     "output_type": "stream",
     "text": [
      "[1, 2, 3, 4, 7]\n"
     ]
    }
   ],
   "source": [
    "# 11. Declare a function named add_item. It takes a list and an item parameters.\n",
    "# It returns a list with the item added at the end.\n",
    "\n",
    "def add_item(lst, item):\n",
    "    lst.append(item)\n",
    "    return lst\n",
    "print(add_item([1,2,3,4], 7))"
   ]
  },
  {
   "cell_type": "code",
   "execution_count": 81,
   "metadata": {},
   "outputs": [
    {
     "name": "stdout",
     "output_type": "stream",
     "text": [
      "[1, 3, 4, 5, 8]\n"
     ]
    }
   ],
   "source": [
    "# 12. Declare a function named remove_item. It takes a list and an item parameters.\n",
    "# It returns a list with the item removed from it.\n",
    "\n",
    "def remove_item(lst, item):\n",
    "    lst.remove(item)\n",
    "    return lst\n",
    "print(remove_item([1,2,3,4,5,8], 2))"
   ]
  },
  {
   "cell_type": "code",
   "execution_count": 95,
   "metadata": {},
   "outputs": [
    {
     "name": "stdout",
     "output_type": "stream",
     "text": [
      "5050\n"
     ]
    }
   ],
   "source": [
    "# 13. Declare a function named sum_of_numbers.\n",
    "# It takes a number parameter and it adds all the numbers in that range.\n",
    "\n",
    "def sum_of_numbers(num):\n",
    "    sum_all =0\n",
    "    for i in range(num+1):\n",
    "        sum_all += i\n",
    "    return sum_all\n",
    "print(sum_of_numbers(100))\n",
    "    "
   ]
  },
  {
   "cell_type": "code",
   "execution_count": 108,
   "metadata": {},
   "outputs": [
    {
     "name": "stdout",
     "output_type": "stream",
     "text": [
      "9\n"
     ]
    }
   ],
   "source": [
    "# 14. Declare a function named sum_of_odds.\n",
    "# It takes a number parameter and it adds all the odd numbers in that range.\n",
    "\n",
    "def sum_of_odds(num):\n",
    "    sum_odd = 0\n",
    "    for i in range(num + 1):\n",
    "        if i%2 != 0:\n",
    "            sum_odd += i\n",
    "    return sum_odd\n",
    "print(sum_of_odds(6))        "
   ]
  },
  {
   "cell_type": "code",
   "execution_count": 109,
   "metadata": {},
   "outputs": [
    {
     "name": "stdout",
     "output_type": "stream",
     "text": [
      "12\n"
     ]
    }
   ],
   "source": [
    "# 15. Declare a function named sum_of_even.\n",
    "# It takes a number parameter and it adds all the even numbers in that - range.\n",
    "\n",
    "def sum_of_even(num):\n",
    "    sum_even = 0\n",
    "    for i in range(num + 1):\n",
    "        if i%2 == 0:\n",
    "            sum_even += i\n",
    "    return sum_even\n",
    "print(sum_of_even(6))"
   ]
  },
  {
   "cell_type": "markdown",
   "metadata": {},
   "source": [
    "### Exercises: Level 2"
   ]
  },
  {
   "cell_type": "code",
   "execution_count": 1,
   "metadata": {},
   "outputs": [
    {
     "name": "stdout",
     "output_type": "stream",
     "text": [
      "The number of odd are: 50 \n",
      "The number of even are: 51\n"
     ]
    }
   ],
   "source": [
    "# 1. Declare a function named evens_and_odds . It takes a positive integer as parameter\n",
    "# and it counts number of evens and odds in the number.\n",
    "\n",
    "def evens_and_odds(int):\n",
    "  even_nums = 0\n",
    "  odd_nums = 0\n",
    "  for i in range(int +1):\n",
    "    if i % 2 == 0:\n",
    "      even_nums += 1\n",
    "    else: \n",
    "      odd_nums +=1\n",
    "  \n",
    "  return f'The number of odd are: {odd_nums} \\nThe number of even are: {even_nums}'\n",
    "print(evens_and_odds(100))\n",
    "    "
   ]
  },
  {
   "cell_type": "code",
   "execution_count": 11,
   "metadata": {},
   "outputs": [
    {
     "name": "stdout",
     "output_type": "stream",
     "text": [
      "6 factorial = 720\n"
     ]
    }
   ],
   "source": [
    "# 2. Call your function factorial, it takes a whole number as a parameter and\n",
    "# it return a factorial of the number\n",
    "\n",
    "def factorial(x):\n",
    "    num = 1\n",
    "    for i in range(1,x+1):\n",
    "        num *= i\n",
    "    return num\n",
    "print(f'6 factorial = {factorial(6)}')\n",
    "\n",
    "    "
   ]
  },
  {
   "cell_type": "code",
   "execution_count": 19,
   "metadata": {},
   "outputs": [
    {
     "name": "stdout",
     "output_type": "stream",
     "text": [
      "The variable a is empty\n",
      "[]\n"
     ]
    }
   ],
   "source": [
    "# 3. Call your function is_empty, it takes a parameter and it checks if it is empty or not\n",
    "\n",
    "def is_empty(a):\n",
    "    if a == []:\n",
    "        print(f'The variable a is empty')\n",
    "    else:\n",
    "        print(f'The variable contains {a}')\n",
    "    return a\n",
    "print(is_empty([]))"
   ]
  },
  {
   "cell_type": "markdown",
   "metadata": {},
   "source": [
    "### Exercises: Level 3"
   ]
  },
  {
   "cell_type": "code",
   "execution_count": 55,
   "metadata": {},
   "outputs": [
    {
     "name": "stdout",
     "output_type": "stream",
     "text": [
      "There are duplicated items\n",
      "[7,5,3,2,3,5]: None\n",
      "The items are unique\n",
      "[7,5,2]: None\n"
     ]
    }
   ],
   "source": [
    "# Write a functions which checks if all items are unique in the list.\n",
    "\n",
    "def is_unique(items):\n",
    "    if len(items) == len(set(items)):\n",
    "        print('The items are unique')\n",
    "    else:\n",
    "        print('There are duplicated items')\n",
    "    return \n",
    "\n",
    "print(f'[7,5,3,2,3,5]: {is_unique([7,5,3,2,3,5])}')\n",
    "print(f'[7,5,2]: {is_unique([7,5,2])}')"
   ]
  },
  {
   "cell_type": "code",
   "execution_count": 58,
   "metadata": {},
   "outputs": [
    {
     "name": "stdout",
     "output_type": "stream",
     "text": [
      "True\n",
      "False\n"
     ]
    }
   ],
   "source": [
    "# Write a function which checks if all the items of the list are of the same data type.\n",
    "def all_items_same_type(list):\n",
    "    first_item_type = type(list[0])  \n",
    "    for item in list[1:]:\n",
    "        if type(item) == first_item_type:\n",
    "            return True\n",
    "        return False\n",
    "    \n",
    "print(all_items_same_type([2,4,3,5]))  # True \n",
    "print(all_items_same_type([2,'4',3,5]))  # False "
   ]
  },
  {
   "cell_type": "code",
   "execution_count": 74,
   "metadata": {},
   "outputs": [
    {
     "name": "stdout",
     "output_type": "stream",
     "text": [
      "True\n"
     ]
    }
   ],
   "source": [
    "# Write a function which check if provided variable is a valid python variable\n",
    "\n",
    "def valid_variable(variable):\n",
    "    return variable.isidentifier()\n",
    "print(valid_variable('Musa'))"
   ]
  }
 ],
 "metadata": {
  "kernelspec": {
   "display_name": ".venv",
   "language": "python",
   "name": "python3"
  },
  "language_info": {
   "codemirror_mode": {
    "name": "ipython",
    "version": 3
   },
   "file_extension": ".py",
   "mimetype": "text/x-python",
   "name": "python",
   "nbconvert_exporter": "python",
   "pygments_lexer": "ipython3",
   "version": "3.9.5"
  }
 },
 "nbformat": 4,
 "nbformat_minor": 2
}
