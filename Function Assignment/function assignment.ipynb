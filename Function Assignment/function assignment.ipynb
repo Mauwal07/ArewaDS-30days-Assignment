{
 "cells": [
  {
   "cell_type": "markdown",
   "metadata": {},
   "source": [
    "#### 8-1, 8-2"
   ]
  },
  {
   "cell_type": "code",
   "execution_count": 4,
   "metadata": {},
   "outputs": [
    {
     "name": "stdout",
     "output_type": "stream",
     "text": [
      "Hi! I am learning about functions in Python\n"
     ]
    }
   ],
   "source": [
    "def display_message():\n",
    "    print('Hi! I am learning about functions in Python')\n",
    "display_message()"
   ]
  },
  {
   "cell_type": "code",
   "execution_count": 2,
   "metadata": {},
   "outputs": [
    {
     "name": "stdout",
     "output_type": "stream",
     "text": [
      "One of my favorite books called Wondweland\n"
     ]
    }
   ],
   "source": [
    "def favorite_book(title):\n",
    "    print(f\"One of my favorite books called {title}\")\n",
    "    \n",
    "favorite_book('Wondweland')"
   ]
  },
  {
   "cell_type": "markdown",
   "metadata": {},
   "source": [
    "#### 8-3 to 8-5"
   ]
  },
  {
   "cell_type": "code",
   "execution_count": 9,
   "metadata": {},
   "outputs": [
    {
     "name": "stdout",
     "output_type": "stream",
     "text": [
      "The shirt size is:50, and has Hello World written on it\n"
     ]
    }
   ],
   "source": [
    "def make_shirt(size, text):\n",
    "    message = f\"The shirt size is:{size}, and has {text} written on it\"\n",
    "    print(message)\n",
    "\n",
    "make_shirt(50, \"Hello World\")"
   ]
  },
  {
   "cell_type": "code",
   "execution_count": 13,
   "metadata": {},
   "outputs": [
    {
     "name": "stdout",
     "output_type": "stream",
     "text": [
      "The size of the shirt is:130, and has I love python written on it\n"
     ]
    }
   ],
   "source": [
    "def make_shirt(size, text):\n",
    "    message = f\"The size of the shirt is:{size}, and has {text} written on it\"\n",
    "    print(message)\n",
    "\n",
    "make_shirt(130, \"I love python\")"
   ]
  },
  {
   "cell_type": "code",
   "execution_count": 14,
   "metadata": {},
   "outputs": [
    {
     "name": "stdout",
     "output_type": "stream",
     "text": [
      "The size of the shirt is:190, and has I love python written on it\n"
     ]
    }
   ],
   "source": [
    "def make_shirt(size, text):\n",
    "    message = f\"The size of the shirt is:{size}, and has {text} written on it\"\n",
    "    print(message)\n",
    "\n",
    "make_shirt(190, \"I love python\")"
   ]
  },
  {
   "cell_type": "code",
   "execution_count": 15,
   "metadata": {},
   "outputs": [
    {
     "name": "stdout",
     "output_type": "stream",
     "text": [
      "Ede is in Nigeria\n",
      "Osogbo is in Nigeria\n",
      "Iwo is in Osun\n"
     ]
    }
   ],
   "source": [
    "def describe_city(city, country=\"Nigeria\"):\n",
    "    print(f\"{city} is in {country}\")\n",
    "    \n",
    "\n",
    "describe_city('Ede')\n",
    "describe_city('Osogbo')\n",
    "describe_city('Iwo', 'Osun')"
   ]
  },
  {
   "cell_type": "markdown",
   "metadata": {},
   "source": [
    "#### 8-6 to 8-8"
   ]
  },
  {
   "cell_type": "code",
   "execution_count": 16,
   "metadata": {},
   "outputs": [
    {
     "name": "stdout",
     "output_type": "stream",
     "text": [
      "Ede, Osun\n",
      "Iwo, Osun\n",
      "Ilesa, Osun\n"
     ]
    }
   ],
   "source": [
    "def city_country(city, country):\n",
    "    city_country=f\"{city}, {country}\"\n",
    "    return city_country\n",
    "\n",
    "country_and_city1 = city_country(\"Ede\", \"Osun\")\n",
    "country_and_city2 = city_country(\"Iwo\", \"Osun\")\n",
    "country_and_city3 = city_country(\"Ilesa\", \"Osun\")\n",
    "print(country_and_city1)\n",
    "print(country_and_city2)\n",
    "print(country_and_city3)"
   ]
  },
  {
   "cell_type": "code",
   "execution_count": 18,
   "metadata": {},
   "outputs": [
    {
     "name": "stdout",
     "output_type": "stream",
     "text": [
      "{'name':seven days, 'title': Craig David} {'name':Sangaya, 'title': Ali Nuhu} {'name':Dawo Dawo, 'title': Naziru}\n"
     ]
    }
   ],
   "source": [
    "def make_album(album_name, album_title):\n",
    "    artist_and_album = f\"{{'name':{album_name}, 'title': {album_title}}}\"\n",
    "    return artist_and_album\n",
    "    \n",
    "album_1=make_album(\"seven days\", \"Craig David\")\n",
    "album_2=make_album(\"Sangaya\", \"Ali Nuhu\")\n",
    "album_3=make_album(\"Dawo Dawo\", \"Naziru\")\n",
    "print(album_1,album_2, album_3)"
   ]
  },
  {
   "cell_type": "markdown",
   "metadata": {},
   "source": [
    "8-9 to 8-11"
   ]
  },
  {
   "cell_type": "code",
   "execution_count": 20,
   "metadata": {},
   "outputs": [
    {
     "name": "stdout",
     "output_type": "stream",
     "text": [
      "mango fruit\n",
      "vegetable oil\n",
      "soft drinks\n"
     ]
    }
   ],
   "source": [
    "list= [\"mango fruit\", \"vegetable oil\", \"soft drinks\"]\n",
    "def show_messages(messages):\n",
    "    for message in messages:\n",
    "        print(message)\n",
    "\n",
    "show_messages(list)"
   ]
  },
  {
   "cell_type": "code",
   "execution_count": 24,
   "metadata": {},
   "outputs": [
    {
     "name": "stdout",
     "output_type": "stream",
     "text": [
      "mango fruit\n",
      "vegetable oil\n",
      "soft drinks\n",
      "vegetable oil\n",
      "soft drinks\n",
      "soft drinks\n",
      "[]\n"
     ]
    }
   ],
   "source": [
    "def show_msgs(msgs):\n",
    "    for msg in msgs:\n",
    "        print(msg)\n",
    "\n",
    "def send_msgs(msgs):\n",
    "    while msgs:\n",
    "        show_msgs(msgs)\n",
    "        msgs.pop(0)\n",
    "\n",
    "list = [\"mango fruit\", \"vegetable oil\", \"soft drinks\"]\n",
    "send_msgs(list)\n",
    "print(list)"
   ]
  },
  {
   "cell_type": "markdown",
   "metadata": {},
   "source": [
    "#### 8-12 to 8-14"
   ]
  },
  {
   "cell_type": "code",
   "execution_count": 25,
   "metadata": {},
   "outputs": [
    {
     "name": "stdout",
     "output_type": "stream",
     "text": [
      "shawarma pizza\n",
      "shawarma pizza butter\n",
      "shawarma groudnut pizza\n"
     ]
    }
   ],
   "source": [
    "def sandwich(*list):\n",
    "    print(*list)\n",
    "sandwich('shawarma', 'pizza')\n",
    "sandwich('shawarma', 'pizza', 'butter')\n",
    "sandwich('shawarma', 'groudnut', 'pizza')"
   ]
  }
 ],
 "metadata": {
  "kernelspec": {
   "display_name": ".venv",
   "language": "python",
   "name": "python3"
  },
  "language_info": {
   "codemirror_mode": {
    "name": "ipython",
    "version": 3
   },
   "file_extension": ".py",
   "mimetype": "text/x-python",
   "name": "python",
   "nbconvert_exporter": "python",
   "pygments_lexer": "ipython3",
   "version": "3.9.5"
  }
 },
 "nbformat": 4,
 "nbformat_minor": 2
}
