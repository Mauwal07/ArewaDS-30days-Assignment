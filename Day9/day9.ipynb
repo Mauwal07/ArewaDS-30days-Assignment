{
 "cells": [
  {
   "cell_type": "markdown",
   "metadata": {},
   "source": [
    "# Exercises: Day 9"
   ]
  },
  {
   "cell_type": "markdown",
   "metadata": {},
   "source": [
    "### Exercises: Level 1"
   ]
  },
  {
   "cell_type": "code",
   "execution_count": 3,
   "metadata": {},
   "outputs": [
    {
     "name": "stdout",
     "output_type": "stream",
     "text": [
      "You need 13 more years to learn to drive\n"
     ]
    }
   ],
   "source": [
    "# 1. Get user input using input(“Enter your age: ”). If user is 18 or older, give feedback: You are old enough to drive.\n",
    "# If below 18 give feedback to wait for the missing amount of years.\n",
    "\n",
    "age = int(input('Enter your age: '))\n",
    "if age >= 18:\n",
    "    print('You are old enough to drive')\n",
    "else:\n",
    "    print(f'You need {18 - age} more years to learn to drive')"
   ]
  },
  {
   "cell_type": "code",
   "execution_count": 4,
   "metadata": {},
   "outputs": [
    {
     "ename": "IndentationError",
     "evalue": "expected an indented block (99003927.py, line 10)",
     "output_type": "error",
     "traceback": [
      "\u001b[0;36m  Cell \u001b[0;32mIn[4], line 10\u001b[0;36m\u001b[0m\n\u001b[0;31m    print('You are 1 year older than me')\u001b[0m\n\u001b[0m    ^\u001b[0m\n\u001b[0;31mIndentationError\u001b[0m\u001b[0;31m:\u001b[0m expected an indented block\n"
     ]
    }
   ],
   "source": [
    "# 2. Compare the values of my_age and your_age using if … else. \n",
    "# Who is older (me or you)? Use input(“Enter your age: ”) to get the age as input.\n",
    "# You can use a nested condition to print 'year' for 1 year difference in age, 'years' for bigger differences, \n",
    "# and a custom text if my_age = your_age.\n",
    "\n",
    "my_age = 25\n",
    "your_age = int(input('Enter your age: '))\n",
    "if your_age > 26:\n",
    "    if your_age == 26:\n",
    "    print('You are 1 year older than me')\n",
    "    else:\n",
    "    print(f'You are {your_age - my_age} years older than me')\n",
    "elif my_age == your_age:\n",
    "    print('We are age mates')"
   ]
  },
  {
   "cell_type": "code",
   "execution_count": 9,
   "metadata": {},
   "outputs": [
    {
     "name": "stdout",
     "output_type": "stream",
     "text": [
      "5 is equal to 5\n"
     ]
    }
   ],
   "source": [
    "# 3. Get two numbers from the user using input prompt. \n",
    "# If a is greater than b return a is greater than b, if a is less b return a is smaller than b, \n",
    "# else a is equal to b.\n",
    "\n",
    "number_one = int(input('Enter the first number: '))\n",
    "number_two = int(input('Enter the second number: '))\n",
    "\n",
    "if number_one > number_two:\n",
    "    print(f'{number_one} is greater than {number_two}')\n",
    "elif number_one < number_two:\n",
    "    print(f'{number_one} is less than {number_two}')\n",
    "else:\n",
    "    print(f'{number_one} is equal to {number_two}')"
   ]
  },
  {
   "cell_type": "markdown",
   "metadata": {},
   "source": [
    "### Exercises: Level 2"
   ]
  },
  {
   "cell_type": "code",
   "execution_count": 16,
   "metadata": {},
   "outputs": [
    {
     "name": "stdout",
     "output_type": "stream",
     "text": [
      "The corresponding grade for the score 30.0 is: F\n"
     ]
    }
   ],
   "source": [
    "# 1. Write a code which gives grade to students according to theirs scores:\n",
    "# 90-100, A\n",
    "# 70-89, B\n",
    "# 60-69, C\n",
    "# 50-59, D\n",
    "# 0-49, F\n",
    "\n",
    "student_score = float(input('Enter student score: '))\n",
    "\n",
    "if student_score >= 90:\n",
    "    print(f'The corresponding grade for the score {student_score} is: A')\n",
    "elif student_score >= 70 and student_score <= 89:\n",
    "    print(f'The corresponding grade for the score {student_score} is: B')\n",
    "elif student_score >= 60 and student_score <= 69:\n",
    "    print(f'The corresponding grade for the score {student_score} is: C')\n",
    "elif student_score >= 50 and student_score <= 59:\n",
    "    print(f'The corresponding grade for the score {student_score} is: D')\n",
    "else:\n",
    "    print(f'The corresponding grade for the score {student_score} is: F')"
   ]
  },
  {
   "cell_type": "code",
   "execution_count": 24,
   "metadata": {},
   "outputs": [
    {
     "name": "stdout",
     "output_type": "stream",
     "text": [
      "The season is Summer since the month is june\n"
     ]
    }
   ],
   "source": [
    "# 2. Check if the season is Autumn, Winter, Spring or Summer. \n",
    "# If the user input is: September, October or November, the season is Autumn.\n",
    "# December, January or February, the season is Winter. March, April or May, the season is Spring\n",
    "# June, July or August, the season is Summer\n",
    "\n",
    "season_month = input('Enter month of the season: ')\n",
    "\n",
    "if season_month == 'september' or season_month == 'october'or season_month == 'november':\n",
    "    print(f'The season is Autumn since the month is {season_month}')\n",
    "    \n",
    "elif season_month == 'december' or season_month == 'january'or season_month == 'february':\n",
    "    print(f'The season is Winter since the month is {season_month}')\n",
    "    \n",
    "elif season_month == 'march' or season_month == 'april'or season_month == 'may':\n",
    "    print(f'The season is Spring since the month is {season_month}')\n",
    "    \n",
    "elif season_month == 'june' or season_month == 'july'or season_month == 'august':\n",
    "    print(f'The season is Summer since the month is {season_month}')\n",
    "    \n",
    "else:\n",
    "    print('The text enter is not part of the calender months')\n"
   ]
  },
  {
   "cell_type": "code",
   "execution_count": 32,
   "metadata": {},
   "outputs": [
    {
     "name": "stdout",
     "output_type": "stream",
     "text": [
      "['banana', 'orange', 'mango', 'lemon', 'guava']\n"
     ]
    }
   ],
   "source": [
    "# 3. The following list contains some fruits: fruits = ['banana', 'orange', 'mango', 'lemon']\n",
    "# If a fruit doesn't exist in the list add the fruit to the list and print the modified list. \n",
    "# If the fruit exists print('That fruit already exist in the list')\n",
    "\n",
    "fruits = ['banana', 'orange', 'mango', 'lemon']\n",
    "new_fruit = input('Enter fruit name: ')\n",
    "if new_fruit in fruits:\n",
    "    print('That fruit already exist in the list')\n",
    "else:\n",
    "    fruits.append(new_fruit)\n",
    "    print(fruits)"
   ]
  },
  {
   "cell_type": "markdown",
   "metadata": {},
   "source": [
    "### Exercises: Level 3"
   ]
  },
  {
   "cell_type": "code",
   "execution_count": null,
   "metadata": {},
   "outputs": [],
   "source": [
    "# 4. Here we have a person dictionary. Feel free to modify it!\n",
    "\n",
    "person={\n",
    "    'first_name': 'Asabeneh',\n",
    "    'last_name': 'Yetayeh',\n",
    "    'age': 250,\n",
    "    'country': 'Finland',\n",
    "    'is_marred': True,\n",
    "    'skills': ['JavaScript', 'React', 'Node', 'MongoDB', 'Python'],\n",
    "    'address': {\n",
    "        'street': 'Space street',\n",
    "        'zipcode': '02210'\n",
    "    }\n",
    "    }"
   ]
  },
  {
   "cell_type": "code",
   "execution_count": 44,
   "metadata": {},
   "outputs": [
    {
     "name": "stdout",
     "output_type": "stream",
     "text": [
      "The middle skill is:  Node\n"
     ]
    }
   ],
   "source": [
    "# Check if the person dictionary has skills key, if so print out the middle skill in the skills list.\n",
    "\n",
    "\n",
    "if 'skills' in person:\n",
    "    print('The middle skill is: ', person['skills'][2])\n",
    "else:\n",
    "    print('Skills not found')\n",
    "    "
   ]
  },
  {
   "cell_type": "code",
   "execution_count": 6,
   "metadata": {},
   "outputs": [
    {
     "name": "stdout",
     "output_type": "stream",
     "text": [
      "\"Python\" is part of the skills\n"
     ]
    }
   ],
   "source": [
    "# Check if the person dictionary has skills key, if so check if the person has 'Python' skill and print out the result.\n",
    "\n",
    "person={\n",
    "    'first_name': 'Asabeneh',\n",
    "    'last_name': 'Yetayeh',\n",
    "    'age': 250,\n",
    "    'country': 'Finland',\n",
    "    'is_marred': True,\n",
    "    'skills': ['JavaScript', 'React', 'Node', 'MongoDB', 'Python'],\n",
    "    'address': {\n",
    "        'street': 'Space street',\n",
    "        'zipcode': '02210'\n",
    "    }\n",
    "    }\n",
    "\n",
    "if 'skills' in person:\n",
    "    if 'Python' in person['skills']:\n",
    "        print('\"Python\" is part of the skills')\n",
    "    else:\n",
    "        print('\"Python\" is not part of the skills')\n",
    "else:\n",
    "    print('\"skills\" is not part of the dictionary')\n",
    "    "
   ]
  },
  {
   "cell_type": "code",
   "execution_count": 12,
   "metadata": {},
   "outputs": [
    {
     "name": "stdout",
     "output_type": "stream",
     "text": [
      "He is a front end developer\n"
     ]
    }
   ],
   "source": [
    "# If a person skills has only JavaScript and React, print('He is a front end developer'),\n",
    "# if the person skills has Node, Python, MongoDB, print('He is a backend developer'),\n",
    "# if the person skills has React, Node and MongoDB, Print('He is a fullstack developer'),\n",
    "# else print('unknown title') - for more accurate results more conditions can be nested!\n",
    "\n",
    "if 'JavaScript' in person['skills'] and 'React' in person['skills']:\n",
    "    print('He is a front end developer')\n",
    "elif 'Node' in person['skills'] and 'Python' in person['skills'] and 'MongoDB' in person['skills']:\n",
    "    print('He is a backend developer')\n",
    "elif 'React' in person['skills'] and 'Node' in person['skills'] and 'MongoDB' in person['skills']:\n",
    "    Print('He is a fullstack developer')  \n",
    "else:\n",
    "    print('unknown title')\n",
    "\n",
    "#### another way\n",
    "#if 'JavaScript' not in person['skills'] and 'React' not in person['skills']:\n",
    "#    if 'Node' in person['skills'] and 'Python' in person['skills'] and 'MongoDB' in person['skills']:\n",
    "#        print('He is a backend developer')\n",
    "#    elif 'React' in person['skills'] and 'Node' in person['skills'] and 'MongoDB' in person['skills']:\n",
    "#        Print('He is a fullstack developer')\n",
    "#    else:\n",
    "#        print('unknown title')\n",
    "#else:\n",
    "#    print('He is a front end developer')\n",
    "        \n",
    "    \n"
   ]
  },
  {
   "cell_type": "markdown",
   "metadata": {},
   "source": [
    "\n",
    "  \n",
    " * If the person is married and if he lives in Finland, print the information in the following format:\n",
    "          Asabeneh Yetayeh lives in Finland. He is married.\n",
    "     "
   ]
  }
 ],
 "metadata": {
  "kernelspec": {
   "display_name": ".venv",
   "language": "python",
   "name": "python3"
  },
  "language_info": {
   "codemirror_mode": {
    "name": "ipython",
    "version": 3
   },
   "file_extension": ".py",
   "mimetype": "text/x-python",
   "name": "python",
   "nbconvert_exporter": "python",
   "pygments_lexer": "ipython3",
   "version": "3.9.5"
  }
 },
 "nbformat": 4,
 "nbformat_minor": 2
}
