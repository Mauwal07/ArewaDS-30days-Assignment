{
 "cells": [
  {
   "cell_type": "markdown",
   "metadata": {},
   "source": [
    "# Exercises - Day 3"
   ]
  },
  {
   "cell_type": "code",
   "execution_count": 7,
   "metadata": {},
   "outputs": [],
   "source": [
    "# 1. Age declaration as integer variable\n",
    "my_age = 20\n",
    "\n",
    "# 2. height declaration as float\n",
    "\n",
    "my_height = 25.0\n",
    "\n",
    "# 3. variable storing complex number\n",
    "\n",
    "complex_number = 1+ 1j"
   ]
  },
  {
   "cell_type": "code",
   "execution_count": 6,
   "metadata": {},
   "outputs": [
    {
     "name": "stdout",
     "output_type": "stream",
     "text": [
      "area of triangle:  100\n"
     ]
    }
   ],
   "source": [
    "# 4. script that prompts and calculates the area of a triangle \n",
    "\n",
    "base_of_triangle = int(input('Enter the base of the triangle: '))\n",
    "height_of_triangle = int(input('Enter the height of the triangle: '))\n",
    "area_of_triangle = int(0.5 * base_of_triangle * print('area of triangle: ', area_of_triangle)height_of_triangle)\n",
    "\n"
   ]
  },
  {
   "cell_type": "code",
   "execution_count": 9,
   "metadata": {},
   "outputs": [
    {
     "name": "stdout",
     "output_type": "stream",
     "text": [
      "perimeter of triangle:  12\n"
     ]
    }
   ],
   "source": [
    "# 5. script that prompts the user and Calculates the perimeter of a triangle\n",
    "\n",
    "side_a = int(input('Enter the first side of the triangle: '))\n",
    "side_b = int(input('Enter the second side of the triangle: '))\n",
    "side_c = int(input('Enter the third side of the triangle: '))\n",
    "perimeter_of_triangle = int(side_a + side_b + side_c)\n",
    "print('perimeter of triangle: ', perimeter_of_triangle)\n"
   ]
  },
  {
   "cell_type": "code",
   "execution_count": 13,
   "metadata": {},
   "outputs": [
    {
     "name": "stdout",
     "output_type": "stream",
     "text": [
      "area of rectangle:  12.0\n",
      "perimeter of rectangle:  14.0\n"
     ]
    }
   ],
   "source": [
    "#6. Getting length and width of a rectangle using prompt and Calculating its area and perimeter \n",
    "\n",
    "length_of_rectangle = float(input('Enter the length of the rectangle: '))\n",
    "width_of_rectangle = float(input('Enter the width of the rectangle: '))\n",
    "\n",
    "area_of_rectangle = length_of_rectangle * width_of_rectangle\n",
    "perimeter_of_rectangle = 2 * (length_of_rectangle + width_of_rectangle)\n",
    "\n",
    "print('area of rectangle: ', area_of_rectangle)\n",
    "print('perimeter of rectangle: ', perimeter_of_rectangle)\n",
    "\n"
   ]
  },
  {
   "cell_type": "code",
   "execution_count": 14,
   "metadata": {},
   "outputs": [
    {
     "name": "stdout",
     "output_type": "stream",
     "text": [
      "area of circle:  78.5\n",
      "circumference of circle:  31.400000000000002\n"
     ]
    }
   ],
   "source": [
    "# 7. Get radius of a circle using prompt. Calculate the area and circumference, where pi = 3.14.\n",
    "\n",
    "pi = 3.14\n",
    "radius_of_circle = int(input('Enter the circle radius: '))\n",
    "area_of_circle = pi * radius_of_circle *radius_of_circle\n",
    "circumference_of_circle = 2 * pi * radius_of_circle\n",
    "\n",
    "print('area of circle: ' , area_of_circle)\n",
    "print('circumference of circle: ' , circumference_of_circle)"
   ]
  },
  {
   "cell_type": "code",
   "execution_count": null,
   "metadata": {},
   "outputs": [],
   "source": [
    "# 8. Calculate the slope, x-intercept and y-intercept of y = 2x -2. therefore, y = 2(x - 1). comparing with y = mx + c\n",
    "\n",
    "m = 2  # slope\n",
    "y = -1  # y-intercept"
   ]
  },
  {
   "cell_type": "code",
   "execution_count": 15,
   "metadata": {},
   "outputs": [
    {
     "name": "stdout",
     "output_type": "stream",
     "text": [
      "m:  2.0\n",
      "Euclidean distance:  80\n"
     ]
    }
   ],
   "source": [
    "# 9. Slope is (m = y2-y1/x2-x1). Find the slope and Euclidean distance between point (2, 2) and point (6,10).\n",
    "\n",
    "x1 , x2 , y1 , y2 = 2 , 6 , 2 , 10\n",
    "\n",
    "m = (y2 - y1) / (x2 - x1)\n",
    "Euclidean_distance = (x2 - x1)**2 + (y2 - y1)**2\n",
    "\n",
    "print('m: ', m)\n",
    "print('Euclidean distance: ' , Euclidean_distance)"
   ]
  },
  {
   "cell_type": "code",
   "execution_count": 34,
   "metadata": {},
   "outputs": [
    {
     "data": {
      "text/plain": [
       "True"
      ]
     },
     "execution_count": 34,
     "metadata": {},
     "output_type": "execute_result"
    }
   ],
   "source": [
    "# 10. Compare the slopes in tasks 8 and 9.\n",
    "\n",
    "float(2) == 2.0\n"
   ]
  },
  {
   "cell_type": "code",
   "execution_count": 26,
   "metadata": {},
   "outputs": [
    {
     "name": "stdout",
     "output_type": "stream",
     "text": [
      "x =  -3\n",
      "y =  0\n"
     ]
    }
   ],
   "source": [
    "# 11. Calculate the value of y (y = x^2 + 6x + 9). Try to use different x values and figure out at what x value y is going to be 0.\n",
    "\n",
    "x = int(input('Enter the value of x: '))\n",
    "\n",
    "y = x**2 + (6*x) + 9\n",
    "\n",
    "print('x = ' , x)\n",
    "print('y = ' , y)"
   ]
  },
  {
   "cell_type": "code",
   "execution_count": 37,
   "metadata": {},
   "outputs": [
    {
     "name": "stdout",
     "output_type": "stream",
     "text": [
      "length of \"python\":  6\n",
      "length of \"dragon\":  6\n",
      "Length of the word \"python\" is different from the word \"dragon\":  False\n"
     ]
    }
   ],
   "source": [
    "#12. Find the length of 'python' and 'dragon' and make a falsy comparison statement.\n",
    "\n",
    "length_python = len('python')\n",
    "length_dragon = len('dragon')\n",
    "\n",
    "print('length of \"python\": ' , length_python)\n",
    "print('length of \"dragon\": ' , length_dragon)\n",
    "\n",
    "print('Length of the word \"python\" is different from the word \"dragon\": ' , length_python != length_dragon)"
   ]
  },
  {
   "cell_type": "code",
   "execution_count": 36,
   "metadata": {},
   "outputs": [
    {
     "name": "stdout",
     "output_type": "stream",
     "text": [
      "'on' is found in both 'python' and 'dragon' :  True\n"
     ]
    }
   ],
   "source": [
    "# 13. Use and operator to check if 'on' is found in both 'python' and 'dragon'\n",
    "\n",
    "print(\"'on' is found in both 'python' and 'dragon' : \" , 'on' in 'dragon' and 'on' in'python')"
   ]
  },
  {
   "cell_type": "code",
   "execution_count": 46,
   "metadata": {},
   "outputs": [
    {
     "name": "stdout",
     "output_type": "stream",
     "text": [
      "jargon in \"I hope this course is not full of jargon\" : True\n"
     ]
    }
   ],
   "source": [
    "# 14. I hope this course is not full of jargon. Use in operator to check if jargon is in the sentence.\n",
    "\n",
    "print('jargon in \"I hope this course is not full of jargon\" :' , 'jargon' in 'I hope this course is not full of jargon')"
   ]
  },
  {
   "cell_type": "code",
   "execution_count": 3,
   "metadata": {},
   "outputs": [
    {
     "name": "stdout",
     "output_type": "stream",
     "text": [
      "There is no \"on\" in both dragon and python:  False\n"
     ]
    }
   ],
   "source": [
    "# 15. There is no 'on' in both dragon and python\n",
    "\n",
    "print('There is no \"on\" in both dragon and python: ' , 'on' not in 'dragon' and 'on' not in 'python')"
   ]
  },
  {
   "cell_type": "code",
   "execution_count": 7,
   "metadata": {},
   "outputs": [
    {
     "name": "stdout",
     "output_type": "stream",
     "text": [
      "length of \"python\":  6\n",
      "length of \"python\" as float:  6.0\n",
      "length of \"python\" as float being converted to string:  6.0\n"
     ]
    }
   ],
   "source": [
    "# 16. Find the length of the text python and convert the value to float and convert it to string\n",
    "\n",
    "print('length of \"python\": ' , len('python'))\n",
    "print('length of \"python\" as float: ' , float(len('python')))\n",
    "print('length of \"python\" as float being converted to string: ' , str(float(len('python'))))\n"
   ]
  },
  {
   "cell_type": "code",
   "execution_count": 18,
   "metadata": {},
   "outputs": [
    {
     "name": "stdout",
     "output_type": "stream",
     "text": [
      "The number entered is even:  False\n"
     ]
    }
   ],
   "source": [
    "# 17. Even numbers are divisible by 2 and the remainder is zero. How do you check if a number is even or not using python?\n",
    "\n",
    "even_number_check = int(input('Enter the number to be checked: '))\n",
    "# print((even_number_check % 2) == 0)\n",
    "print(\"The number entered is even: \" , (even_number_check % 2) == 0)"
   ]
  },
  {
   "cell_type": "code",
   "execution_count": 23,
   "metadata": {},
   "outputs": [
    {
     "data": {
      "text/plain": [
       "True"
      ]
     },
     "execution_count": 23,
     "metadata": {},
     "output_type": "execute_result"
    }
   ],
   "source": [
    "# 18 Check if the floor division of 7 by 3 is equal to the int converted value of 2.7.\n",
    "\n",
    "7//3 == int(2.7)"
   ]
  },
  {
   "cell_type": "code",
   "execution_count": 24,
   "metadata": {},
   "outputs": [
    {
     "data": {
      "text/plain": [
       "False"
      ]
     },
     "execution_count": 24,
     "metadata": {},
     "output_type": "execute_result"
    }
   ],
   "source": [
    "# 19. Check if type of '10' is equal to type of 10\n",
    "\n",
    "type('10') is type(10)"
   ]
  },
  {
   "cell_type": "code",
   "execution_count": 30,
   "metadata": {},
   "outputs": [
    {
     "name": "stderr",
     "output_type": "stream",
     "text": [
      "<>:3: SyntaxWarning: \"is\" with a literal. Did you mean \"==\"?\n",
      "<>:3: SyntaxWarning: \"is\" with a literal. Did you mean \"==\"?\n",
      "/tmp/ipykernel_381/4104649140.py:3: SyntaxWarning: \"is\" with a literal. Did you mean \"==\"?\n",
      "  int('9.8') is 10\n",
      "/tmp/ipykernel_381/4104649140.py:3: SyntaxWarning: \"is\" with a literal. Did you mean \"==\"?\n",
      "  int('9.8') is 10\n",
      "/tmp/ipykernel_381/4104649140.py:3: SyntaxWarning: \"is\" with a literal. Did you mean \"==\"?\n",
      "  int('9.8') is 10\n"
     ]
    },
    {
     "ename": "ValueError",
     "evalue": "invalid literal for int() with base 10: '9.8'",
     "output_type": "error",
     "traceback": [
      "\u001b[0;31m---------------------------------------------------------------------------\u001b[0m",
      "\u001b[0;31mValueError\u001b[0m                                Traceback (most recent call last)",
      "\u001b[1;32m/home/mauwal07/projects/arewa-ds-workspace/ArewaDS-30days-Assignment/Day3/day3.ipynb Cell 20\u001b[0m line \u001b[0;36m3\n\u001b[1;32m      <a href='vscode-notebook-cell://wsl%2Bubuntu-20.04/home/mauwal07/projects/arewa-ds-workspace/ArewaDS-30days-Assignment/Day3/day3.ipynb#X30sdnNjb2RlLXJlbW90ZQ%3D%3D?line=0'>1</a>\u001b[0m \u001b[39m# 20. Check if int('9.8') is equal to 10\u001b[39;00m\n\u001b[0;32m----> <a href='vscode-notebook-cell://wsl%2Bubuntu-20.04/home/mauwal07/projects/arewa-ds-workspace/ArewaDS-30days-Assignment/Day3/day3.ipynb#X30sdnNjb2RlLXJlbW90ZQ%3D%3D?line=2'>3</a>\u001b[0m \u001b[39mint\u001b[39;49m(\u001b[39m'\u001b[39;49m\u001b[39m9.8\u001b[39;49m\u001b[39m'\u001b[39;49m) \u001b[39mis\u001b[39;00m \u001b[39m10\u001b[39m\n",
      "\u001b[0;31mValueError\u001b[0m: invalid literal for int() with base 10: '9.8'"
     ]
    }
   ],
   "source": [
    "# 20. Check if int('9.8') is equal to 10\n",
    "\n",
    "int('9.8') is 10\n",
    "\n"
   ]
  }
 ],
 "metadata": {
  "kernelspec": {
   "display_name": ".venv",
   "language": "python",
   "name": "python3"
  },
  "language_info": {
   "codemirror_mode": {
    "name": "ipython",
    "version": 3
   },
   "file_extension": ".py",
   "mimetype": "text/x-python",
   "name": "python",
   "nbconvert_exporter": "python",
   "pygments_lexer": "ipython3",
   "version": "3.9.5"
  }
 },
 "nbformat": 4,
 "nbformat_minor": 2
}
